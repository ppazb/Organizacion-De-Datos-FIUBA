{
  "nbformat": 4,
  "nbformat_minor": 0,
  "metadata": {
    "colab": {
      "provenance": []
    },
    "kernelspec": {
      "name": "python3",
      "display_name": "Python 3"
    },
    "language_info": {
      "name": "python"
    }
  },
  "cells": [
    {
      "cell_type": "markdown",
      "source": [
        "# Ejercicio 3"
      ],
      "metadata": {
        "id": "efT78gPsgG6S"
      }
    },
    {
      "cell_type": "markdown",
      "source": [
        "3. Realizar un análisis de stopwords del contenido de texto de la Wikipedia. En este punto esperamos que analicen, dada la frecuencia de los términos que hay en la wikipedia cuales deberian ser considerados stop words. (⭐)"
      ],
      "metadata": {
        "id": "uphjYKjYwTQC"
      }
    },
    {
      "cell_type": "code",
      "execution_count": null,
      "metadata": {
        "id": "JG6XNnJpIjA_"
      },
      "outputs": [],
      "source": [
        "!pip install pyspark\n",
        "!pip install -U -q PyDrive\n",
        "!apt update\n",
        "!apt install openjdk-8-jdk-headless -qq\n",
        "#!apt install default-jre\n",
        "#!apt install default-jdk+\n",
        "import os\n",
        "os.environ[\"JAVA_HOME\"] = \"/usr/lib/jvm/java-8-openjdk-amd64\""
      ]
    },
    {
      "cell_type": "code",
      "execution_count": null,
      "metadata": {
        "id": "xwzov6Nw6V6F"
      },
      "outputs": [],
      "source": [
        "from pydrive.auth import GoogleAuth\n",
        "from pydrive.drive import GoogleDrive\n",
        "from google.colab import auth\n",
        "from oauth2client.client import GoogleCredentials\n",
        "from pyspark.sql import *\n",
        "from pyspark.sql.functions import *\n",
        "from pyspark import SparkContext\n",
        "from pyspark.sql import SQLContext\n",
        "import pandas as pd"
      ]
    },
    {
      "cell_type": "code",
      "execution_count": null,
      "metadata": {
        "id": "yd8Y-BDc6XrV"
      },
      "outputs": [],
      "source": [
        "auth.authenticate_user()\n",
        "gauth = GoogleAuth()\n",
        "gauth.credentials = GoogleCredentials.get_application_default()\n",
        "drive = GoogleDrive(gauth)"
      ]
    },
    {
      "cell_type": "code",
      "execution_count": null,
      "metadata": {
        "colab": {
          "base_uri": "https://localhost:8080/"
        },
        "id": "cvSZUGX86Zre",
        "outputId": "e7eb7557-9cbe-4c55-e616-bcd07c0fe15f"
      },
      "outputs": [
        {
          "output_type": "stream",
          "name": "stdout",
          "text": [
            "Mounted at /content/drive\n"
          ]
        }
      ],
      "source": [
        "from google.colab import drive\n",
        "drive.mount('/content/drive')"
      ]
    },
    {
      "cell_type": "code",
      "execution_count": null,
      "metadata": {
        "id": "FesTer6T6bnu"
      },
      "outputs": [],
      "source": [
        "spark = SparkSession.builder.getOrCreate()\n",
        "sc = spark.sparkContext"
      ]
    },
    {
      "cell_type": "code",
      "execution_count": null,
      "metadata": {
        "colab": {
          "base_uri": "https://localhost:8080/"
        },
        "id": "kyJXMpjh6chG",
        "outputId": "875fef0e-b997-46ea-efb7-f1f9564e048e"
      },
      "outputs": [
        {
          "output_type": "stream",
          "name": "stderr",
          "text": [
            "/usr/local/lib/python3.10/dist-packages/pyspark/sql/context.py:112: FutureWarning: Deprecated in 3.0.0. Use SparkSession.builder.getOrCreate() instead.\n",
            "  warnings.warn(\n"
          ]
        }
      ],
      "source": [
        "sqlContext = SQLContext(sc)\n",
        "df_textos = sqlContext.read.csv(\"/content/drive/MyDrive/Colab Notebooks/contents_text_sample.csv\", header=True, inferSchema=True)\n"
      ]
    },
    {
      "cell_type": "code",
      "source": [
        "rdd_texto = df_textos.select(\"text\").rdd"
      ],
      "metadata": {
        "id": "hw-Z8BYyDxAd"
      },
      "execution_count": null,
      "outputs": []
    },
    {
      "cell_type": "code",
      "source": [
        "rdd_texto = rdd_texto.filter(lambda x: x.text != None)"
      ],
      "metadata": {
        "id": "AyTTr6qgFeUy"
      },
      "execution_count": null,
      "outputs": []
    },
    {
      "cell_type": "code",
      "source": [
        "from nltk.corpus import stopwords\n",
        "from nltk import word_tokenize\n",
        "import nltk\n",
        "\n",
        "nltk.download(\"punkt\")\n",
        "nltk.download(\"stopwords\")\n",
        "stopwords = set(stopwords.words('spanish'))"
      ],
      "metadata": {
        "colab": {
          "base_uri": "https://localhost:8080/"
        },
        "id": "LeuZZtpvQ0Av",
        "outputId": "a282e8d8-eedd-49d7-cfc1-f484f31dfc42"
      },
      "execution_count": null,
      "outputs": [
        {
          "output_type": "stream",
          "name": "stderr",
          "text": [
            "[nltk_data] Downloading package punkt to /root/nltk_data...\n",
            "[nltk_data]   Package punkt is already up-to-date!\n",
            "[nltk_data] Downloading package stopwords to /root/nltk_data...\n",
            "[nltk_data]   Package stopwords is already up-to-date!\n"
          ]
        }
      ]
    },
    {
      "cell_type": "code",
      "source": [
        "from operator import add\n",
        "rdd_texto = rdd_texto.flatMap(lambda valor: [(x, 1) for x in word_tokenize(valor.text)]).reduceByKey(add)\n",
        "rdd_texto.take(5)\n"
      ],
      "metadata": {
        "colab": {
          "base_uri": "https://localhost:8080/"
        },
        "id": "YXxBvh2FF9J1",
        "outputId": "4d851a82-d259-4ae1-f64b-68710ef34762"
      },
      "execution_count": null,
      "outputs": [
        {
          "output_type": "execute_result",
          "data": {
            "text/plain": [
              "[('s', 5730), ('1818.', 3), ('Trop', 51), ('>', 138212), ('Tropicos.org', 48)]"
            ]
          },
          "metadata": {},
          "execution_count": 77
        }
      ]
    },
    {
      "cell_type": "markdown",
      "source": [
        "Si bien la gran mayoria de terminos que aparecen con freciencia (se eligio 4000 apariciones) pueden ser consideradas stopwords, hay palabras como \"nombre, septiembre, abril, persona, edicion, etc\" que debido a su amplio uso tienen alta frecuencia pero no por eso son stopwrds."
      ],
      "metadata": {
        "id": "2DLHRHIQeJSv"
      }
    },
    {
      "cell_type": "code",
      "source": [
        "stop_words = rdd_texto.filter(lambda x: x[1] > 4000)\n",
        "stop_words.collect()"
      ],
      "metadata": {
        "id": "LW-2Gm4fc4OJ"
      },
      "execution_count": null,
      "outputs": []
    },
    {
      "cell_type": "markdown",
      "source": [
        "Si utilizamos de filtro una frecuencia aun mayor, podemos ver que la totalidad de terminos podrian ser considerados stopwords en este contexto."
      ],
      "metadata": {
        "id": "YoKL1nG6gSeV"
      }
    },
    {
      "cell_type": "code",
      "source": [
        "stop_words_mas_frecuencia = rdd_texto.filter(lambda x: x[1] > 60000)\n",
        "stop_words_mas_frecuencia.collect()"
      ],
      "metadata": {
        "colab": {
          "base_uri": "https://localhost:8080/"
        },
        "id": "1R3GGWGcgLHt",
        "outputId": "46b0e817-05a4-44dc-cfff-6fa2e03c413a"
      },
      "execution_count": null,
      "outputs": [
        {
          "output_type": "execute_result",
          "data": {
            "text/plain": [
              "[('>', 138212),\n",
              " ('}', 174922),\n",
              " ('del', 98812),\n",
              " ('los', 84631),\n",
              " (':', 133609),\n",
              " (')', 122476),\n",
              " ('por', 70049),\n",
              " ('un', 64638),\n",
              " ('la', 245462),\n",
              " ('REDIRECCIÓN', 69409),\n",
              " ('con', 61152),\n",
              " (\"''\", 246411),\n",
              " ('``', 85094),\n",
              " ('#', 102231),\n",
              " ('de', 742797),\n",
              " (']', 982543),\n",
              " ('(', 108643),\n",
              " ('[', 968719),\n",
              " ('.', 309446),\n",
              " ('en', 208003),\n",
              " ('y', 191136),\n",
              " ('el', 172811),\n",
              " ('que', 117909),\n",
              " ('{', 278744),\n",
              " ('<', 137597),\n",
              " ('ref', 64421),\n",
              " ('a', 114308),\n",
              " ('se', 68228)]"
            ]
          },
          "metadata": {},
          "execution_count": 123
        }
      ]
    },
    {
      "cell_type": "markdown",
      "source": [
        "Por otro lado tambien podemos ver que hay palabras consideradas stopwords del español por una libreria, que no necesariamente tienen un alto numero de apariciones, algunas apareciendo solamente 1 o dos veces"
      ],
      "metadata": {
        "id": "r3xJv9GAenYQ"
      }
    },
    {
      "cell_type": "code",
      "source": [
        "libreria = rdd_texto.filter(lambda x: x[0] in stopwords)\n",
        "libreria.collect()"
      ],
      "metadata": {
        "colab": {
          "base_uri": "https://localhost:8080/"
        },
        "id": "xS99Z4KXdozO",
        "outputId": "51a40144-76aa-478f-8270-49b06ff3fb5c"
      },
      "execution_count": null,
      "outputs": [
        {
          "output_type": "execute_result",
          "data": {
            "text/plain": [
              "[('del', 98812),\n",
              " ('son', 8093),\n",
              " ('su', 46646),\n",
              " ('los', 84631),\n",
              " ('para', 38318),\n",
              " ('esto', 1757),\n",
              " ('hay', 2420),\n",
              " ('ante', 1857),\n",
              " ('antes', 2932),\n",
              " ('no', 22717),\n",
              " ('ya', 5958),\n",
              " ('algunas', 1591),\n",
              " ('estado', 3129),\n",
              " ('durante', 6489),\n",
              " ('tenía', 2097),\n",
              " ('estén', 122),\n",
              " ('estar', 1036),\n",
              " ('hubiera', 220),\n",
              " ('vuestro', 11),\n",
              " ('estando', 176),\n",
              " ('serían', 234),\n",
              " ('suyos', 57),\n",
              " ('esté', 208),\n",
              " ('mí', 180),\n",
              " ('tengamos', 19),\n",
              " ('os', 85),\n",
              " ('fuimos', 13),\n",
              " ('habíamos', 20),\n",
              " ('hayas', 21),\n",
              " ('estáis', 7),\n",
              " ('estés', 10),\n",
              " ('tendré', 5),\n",
              " ('tendréis', 1),\n",
              " ('vuestra', 27),\n",
              " ('seré', 13),\n",
              " ('tenida', 6),\n",
              " ('habidas', 3),\n",
              " ('estuvimos', 2),\n",
              " ('estabais', 2),\n",
              " ('hubiéramos', 2),\n",
              " ('seremos', 2),\n",
              " ('hubieseis', 1),\n",
              " ('estuvisteis', 1),\n",
              " ('estas', 1476),\n",
              " ('una', 54263),\n",
              " ('ha', 7269),\n",
              " ('por', 70049),\n",
              " ('un', 64638),\n",
              " ('la', 245462),\n",
              " ('esta', 6793),\n",
              " ('será', 768),\n",
              " ('desde', 7758),\n",
              " ('otro', 2450),\n",
              " ('habrán', 8),\n",
              " ('han', 3301),\n",
              " ('otros', 6104),\n",
              " ('muy', 4126),\n",
              " ('has', 244),\n",
              " ('algo', 1074),\n",
              " ('poco', 1921),\n",
              " ('sin', 5652),\n",
              " ('contra', 4111),\n",
              " ('fueron', 4624),\n",
              " ('fuera', 1374),\n",
              " ('sería', 1292),\n",
              " ('esa', 1602),\n",
              " ('teniendo', 384),\n",
              " ('tuvo', 2311),\n",
              " ('tus', 146),\n",
              " ('fuiste', 4),\n",
              " ('estados', 464),\n",
              " ('tendrá', 180),\n",
              " ('tenéis', 4),\n",
              " ('nosotros', 159),\n",
              " ('nuestras', 91),\n",
              " ('tuviera', 104),\n",
              " ('tuviesen', 14),\n",
              " ('estará', 97),\n",
              " ('estoy', 220),\n",
              " ('nosotras', 4),\n",
              " ('tendremos', 9),\n",
              " ('tengáis', 1),\n",
              " ('sintiendo', 10),\n",
              " ('tendrías', 2),\n",
              " ('hayamos', 3),\n",
              " ('estuvieras', 4),\n",
              " ('estemos', 5),\n",
              " ('habidos', 2),\n",
              " ('estaremos', 5),\n",
              " ('estarías', 1),\n",
              " ('hube', 1),\n",
              " ('pero', 10414),\n",
              " ('con', 61152),\n",
              " ('como', 36416),\n",
              " ('ellos', 2225),\n",
              " ('también', 9268),\n",
              " ('lo', 17338),\n",
              " ('nada', 703),\n",
              " ('porque', 1847),\n",
              " ('estos', 1932),\n",
              " ('sus', 15507),\n",
              " ('le', 8005),\n",
              " ('cual', 6908),\n",
              " ('sobre', 9430),\n",
              " ('tanto', 3078),\n",
              " ('les', 1643),\n",
              " ('unos', 2552),\n",
              " ('estuvo', 1085),\n",
              " ('ellas', 967),\n",
              " ('mucho', 1405),\n",
              " ('sea', 1462),\n",
              " ('estuvieron', 202),\n",
              " ('suya', 81),\n",
              " ('qué', 769),\n",
              " ('tuvieron', 462),\n",
              " ('estaría', 125),\n",
              " ('tuvieran', 37),\n",
              " ('tendrán', 70),\n",
              " ('serán', 192),\n",
              " ('sentidos', 50),\n",
              " ('he', 695),\n",
              " ('tienes', 74),\n",
              " ('tuya', 15),\n",
              " ('éramos', 10),\n",
              " ('vuestros', 8),\n",
              " ('estaríamos', 5),\n",
              " ('estábamos', 25),\n",
              " ('hubieron', 8),\n",
              " ('estarás', 4),\n",
              " ('hubieses', 1),\n",
              " ('estabas', 1),\n",
              " ('sentidas', 1),\n",
              " ('habrías', 1),\n",
              " ('de', 742797),\n",
              " ('o', 17941),\n",
              " ('las', 50717),\n",
              " ('era', 6531),\n",
              " ('entre', 11761),\n",
              " ('más', 20227),\n",
              " ('es', 38714),\n",
              " ('están', 2060),\n",
              " ('cuando', 5541),\n",
              " ('esos', 487),\n",
              " ('muchos', 1738),\n",
              " ('tienen', 1777),\n",
              " ('estaban', 991),\n",
              " ('tenemos', 173),\n",
              " ('está', 5584),\n",
              " ('hemos', 96),\n",
              " ('nos', 734),\n",
              " ('tenido', 458),\n",
              " ('sean', 395),\n",
              " ('ti', 100),\n",
              " ('nuestros', 190),\n",
              " ('vuestras', 8),\n",
              " ('hubiese', 85),\n",
              " ('tendría', 194),\n",
              " ('somos', 82),\n",
              " ('tengan', 130),\n",
              " ('estarán', 44),\n",
              " ('tu', 564),\n",
              " ('fui', 25),\n",
              " ('habrá', 89),\n",
              " ('hubieran', 44),\n",
              " ('hubiesen', 18),\n",
              " ('mío', 28),\n",
              " ('habías', 5),\n",
              " ('soy', 199),\n",
              " ('suyo', 102),\n",
              " ('tendríamos', 12),\n",
              " ('teníamos', 14),\n",
              " ('sois', 14),\n",
              " ('estuve', 19),\n",
              " ('habéis', 9),\n",
              " ('estuviéramos', 1),\n",
              " ('tuve', 28),\n",
              " ('tuyo', 10),\n",
              " ('tuviste', 1),\n",
              " ('habremos', 4),\n",
              " ('seríamos', 2),\n",
              " ('hubieras', 3),\n",
              " ('habida', 1),\n",
              " ('estad', 3),\n",
              " ('vosotras', 2),\n",
              " ('en', 208003),\n",
              " ('y', 191136),\n",
              " ('el', 172811),\n",
              " ('que', 117909),\n",
              " ('hasta', 8875),\n",
              " ('al', 34424),\n",
              " ('este', 8565),\n",
              " ('hubo', 454),\n",
              " ('todos', 3254),\n",
              " ('algunos', 2405),\n",
              " ('otras', 2929),\n",
              " ('quien', 3650),\n",
              " ('estaba', 2490),\n",
              " ('hayan', 150),\n",
              " ('ni', 1515),\n",
              " ('tenían', 902),\n",
              " ('eran', 2017),\n",
              " ('quienes', 850),\n",
              " ('siente', 188),\n",
              " ('estás', 77),\n",
              " ('fueran', 181),\n",
              " ('mis', 222),\n",
              " ('estuviese', 29),\n",
              " ('mi', 1194),\n",
              " ('habiendo', 210),\n",
              " ('yo', 605),\n",
              " ('habrían', 76),\n",
              " ('estuvieran', 45),\n",
              " ('tengo', 189),\n",
              " ('suyas', 43),\n",
              " ('tendrían', 51),\n",
              " ('estuviesen', 7),\n",
              " ('mía', 37),\n",
              " ('serás', 5),\n",
              " ('vosotros', 26),\n",
              " ('seamos', 6),\n",
              " ('tuviese', 19),\n",
              " ('tuyos', 3),\n",
              " ('tuvimos', 7),\n",
              " ('fuéramos', 4),\n",
              " ('fueras', 4),\n",
              " ('hubiésemos', 1),\n",
              " ('hayáis', 1),\n",
              " ('a', 114308),\n",
              " ('donde', 8928),\n",
              " ('se', 68228),\n",
              " ('él', 2872),\n",
              " ('e', 5936),\n",
              " ('estamos', 111),\n",
              " ('estuviera', 87),\n",
              " ('fue', 26341),\n",
              " ('ese', 3182),\n",
              " ('tiene', 4688),\n",
              " ('todo', 3642),\n",
              " ('había', 4657),\n",
              " ('uno', 4899),\n",
              " ('ella', 2317),\n",
              " ('habían', 1379),\n",
              " ('sentido', 714),\n",
              " ('sí', 1278),\n",
              " ('esas', 354),\n",
              " ('otra', 1900),\n",
              " ('te', 606),\n",
              " ('habría', 401),\n",
              " ('nuestro', 284),\n",
              " ('tengas', 23),\n",
              " ('eso', 923),\n",
              " ('tú', 154),\n",
              " ('nuestra', 337),\n",
              " ('haya', 444),\n",
              " ('me', 1809),\n",
              " ('fuese', 183),\n",
              " ('tenga', 252),\n",
              " ('fuesen', 24),\n",
              " ('estarían', 40),\n",
              " ('habido', 57),\n",
              " ('tenidos', 4),\n",
              " ('eres', 58),\n",
              " ('eras', 18),\n",
              " ('seas', 18),\n",
              " ('tendrás', 16),\n",
              " ('tenidas', 3),\n",
              " ('sentida', 1),\n",
              " ('míos', 5),\n",
              " ('mías', 3),\n",
              " ('habrás', 1),\n",
              " ('estaré', 9),\n",
              " ('tenías', 4),\n",
              " ('seáis', 1)]"
            ]
          },
          "metadata": {},
          "execution_count": 124
        }
      ]
    },
    {
      "cell_type": "markdown",
      "source": [
        "Las palabras que podriamos considerar si o si stopwords para wikipedia, sumado a aquellas con mas de 60000+ apariciones, podrian ser las q cumplen ambas condiciones (tener mas de 4000 apariciones pero tambien aparecer en la libreria utilizada)"
      ],
      "metadata": {
        "id": "GliO89V7e8SW"
      }
    },
    {
      "cell_type": "code",
      "source": [
        "cruce = libreria.join(stop_words)\n",
        "\n",
        "resultado = cruce.fullOuterJoin(stop_words_mas_frecuencia).map(lambda x: x[0])\n",
        "resultado.collect()"
      ],
      "metadata": {
        "colab": {
          "base_uri": "https://localhost:8080/"
        },
        "id": "Tt88GNMee35c",
        "outputId": "c04f568a-1dbd-4062-c852-de0bf941cf34"
      },
      "execution_count": null,
      "outputs": [
        {
          "output_type": "execute_result",
          "data": {
            "text/plain": [
              "['del',\n",
              " 'son',\n",
              " 'su',\n",
              " 'los',\n",
              " 'para',\n",
              " 'no',\n",
              " 'ya',\n",
              " 'durante',\n",
              " '>',\n",
              " '}',\n",
              " 'una',\n",
              " 'ha',\n",
              " 'por',\n",
              " 'un',\n",
              " 'la',\n",
              " 'esta',\n",
              " 'desde',\n",
              " 'otros',\n",
              " 'muy',\n",
              " 'sin',\n",
              " 'contra',\n",
              " 'fueron',\n",
              " ':',\n",
              " ')',\n",
              " 'REDIRECCIÓN',\n",
              " 'pero',\n",
              " 'con',\n",
              " 'como',\n",
              " 'también',\n",
              " 'lo',\n",
              " 'sus',\n",
              " 'le',\n",
              " 'cual',\n",
              " 'sobre',\n",
              " \"''\",\n",
              " '``',\n",
              " '#',\n",
              " 'de',\n",
              " 'o',\n",
              " 'las',\n",
              " 'era',\n",
              " 'entre',\n",
              " 'más',\n",
              " 'es',\n",
              " 'cuando',\n",
              " 'está',\n",
              " ']',\n",
              " '(',\n",
              " 'en',\n",
              " 'y',\n",
              " 'el',\n",
              " 'que',\n",
              " 'hasta',\n",
              " 'al',\n",
              " 'este',\n",
              " '[',\n",
              " '.',\n",
              " 'a',\n",
              " 'donde',\n",
              " 'se',\n",
              " 'e',\n",
              " 'fue',\n",
              " 'tiene',\n",
              " 'había',\n",
              " 'uno',\n",
              " '{',\n",
              " '<',\n",
              " 'ref']"
            ]
          },
          "metadata": {},
          "execution_count": 125
        }
      ]
    },
    {
      "cell_type": "markdown",
      "source": [
        "# Ejercicio 28"
      ],
      "metadata": {
        "id": "tOOUPXpFgl9y"
      }
    },
    {
      "cell_type": "markdown",
      "source": [
        "28. El porcentaje de contenidos que están publicados cuya última edición no tiene comentario para los usuarios que realizaron 1, >10 y >100 de las últimas ediciones (⭐⭐)\n"
      ],
      "metadata": {
        "id": "Sb0ufrG5n0vg"
      }
    },
    {
      "cell_type": "code",
      "source": [
        "spark = SparkSession.builder.getOrCreate()\n",
        "sc = spark.sparkContext"
      ],
      "metadata": {
        "id": "bDSBs3r6R0K-"
      },
      "execution_count": null,
      "outputs": []
    },
    {
      "cell_type": "code",
      "source": [
        "sqlContext = SQLContext(sc)\n",
        "df_contents = sqlContext.read.csv(\"/content/drive/MyDrive/Colab Notebooks/contents.csv\", header=True, inferSchema=True)\n"
      ],
      "metadata": {
        "colab": {
          "base_uri": "https://localhost:8080/"
        },
        "id": "1zRvoNmBR7SW",
        "outputId": "f4e142ea-e17e-4b49-a5bc-3dcf12ef7087"
      },
      "execution_count": null,
      "outputs": [
        {
          "output_type": "stream",
          "name": "stderr",
          "text": [
            "/usr/local/lib/python3.10/dist-packages/pyspark/sql/context.py:112: FutureWarning: Deprecated in 3.0.0. Use SparkSession.builder.getOrCreate() instead.\n",
            "  warnings.warn(\n"
          ]
        }
      ]
    },
    {
      "cell_type": "markdown",
      "source": [
        "Se que mi archivo ya tiene solamente las versiones finales (por enunciado)\n",
        "\n",
        "\n",
        "---\n",
        "\n",
        "\n",
        "USUARIOS:\n",
        "\n",
        "Se que no tener titulo no es necesariamente descalificante para la fila, porque puede ser una edicion en progreso, lo unico que no puede pasar es todos los valores nan o que no hay revisor_id, puesto que nada me asegura que todos los nan pertenezcan a un mismo editor, por lo que se los descarta.  \n",
        "\n",
        "\n",
        "---\n",
        "Me interesa cuantas veces aparece cada usuario, puesto que cada linea es una edicion de contenido, y el comentario que se realizo durante esa edicion."
      ],
      "metadata": {
        "id": "16PjOXQojHGW"
      }
    },
    {
      "cell_type": "code",
      "source": [
        "rdd_contents = df_contents.select(\"revisor_id\",\"revisor_comment\").rdd"
      ],
      "metadata": {
        "id": "olt_DMpp0PVF"
      },
      "execution_count": null,
      "outputs": []
    },
    {
      "cell_type": "code",
      "source": [
        "#Filtro ids de revisor nans\n",
        "rdd_contents = rdd_contents.filter(lambda x: x.revisor_id != None)"
      ],
      "metadata": {
        "id": "cBONaA_70Lod"
      },
      "execution_count": null,
      "outputs": []
    },
    {
      "cell_type": "code",
      "source": [
        "def categorizar_usuario (cant_comentarios):\n",
        "  if (cant_comentarios == 1):\n",
        "      return \"1\"\n",
        "  elif (cant_comentarios > 1 and cant_comentarios < 100):\n",
        "      return \">10\"\n",
        "  else:\n",
        "    return \">100\""
      ],
      "metadata": {
        "id": "Uubc3dj7stZd"
      },
      "execution_count": null,
      "outputs": []
    },
    {
      "cell_type": "code",
      "source": [
        "comento = True\n",
        "no_comento = False\n",
        "\n",
        "def categorizar_comentario (comentario):\n",
        "  if (comentario == None):\n",
        "    return no_comento\n",
        "  return comento"
      ],
      "metadata": {
        "id": "x3Y7sU9U0Zkt"
      },
      "execution_count": null,
      "outputs": []
    },
    {
      "cell_type": "markdown",
      "source": [
        "\n",
        "\n",
        "*  Cuento cuantas ediciones hace cada usuario\n",
        "\n",
        "\n",
        "\n"
      ],
      "metadata": {
        "id": "-nnsVk5A2rpy"
      }
    },
    {
      "cell_type": "code",
      "source": [
        "comentarios_por_usuario = rdd_contents.map(lambda x: (x.revisor_id,1)).countByKey()"
      ],
      "metadata": {
        "id": "9wiJwTSjWB3V"
      },
      "execution_count": null,
      "outputs": []
    },
    {
      "cell_type": "markdown",
      "source": [
        "\n",
        "*  En mi rdd, solo me quedo con la categoria del usuario (1, >10 comentarios, > 100 comentarios) y del comentario (no comento, comento). De esta forma me queda un listado que indica si en mi edicion se agrego o no un comentario y a su vez ya se a cual de mis tres grupos pertenece.\n",
        "\n",
        "*   Luego agrupo por key de forma tal que me van a quedar solo 6 elementos\n",
        "\n",
        "\n"
      ],
      "metadata": {
        "id": "ysvK_SUP7cTx"
      }
    },
    {
      "cell_type": "code",
      "source": [
        "#((cat_usuario, cat_comentario), 1)\n",
        "rdd_contents = rdd_contents.map(lambda x: ((categorizar_usuario(comentarios_por_usuario[x.revisor_id]), categorizar_comentario(x.revisor_comment)), 1)  )\n",
        "rdd_contents = rdd_contents.countByKey()\n",
        "rdd_contents"
      ],
      "metadata": {
        "colab": {
          "base_uri": "https://localhost:8080/"
        },
        "id": "WIbLGHAu69Mm",
        "outputId": "1e525d6f-86e7-4b95-8ed4-3a420c37948d"
      },
      "execution_count": null,
      "outputs": [
        {
          "output_type": "execute_result",
          "data": {
            "text/plain": [
              "defaultdict(int,\n",
              "            {('>100', True): 3377355,\n",
              "             ('>10', False): 42163,\n",
              "             ('>10', True): 150895,\n",
              "             ('>100', False): 343688,\n",
              "             ('1', True): 18427,\n",
              "             ('1', False): 6349})"
            ]
          },
          "metadata": {},
          "execution_count": 12
        }
      ]
    },
    {
      "cell_type": "code",
      "source": [
        "total_1 = rdd_contents[('1', comento)] + rdd_contents[('1', no_comento)]\n",
        "sin_comentar_1 = rdd_contents[('1', no_comento)]\n",
        "porcentaje_1 =  sin_comentar_1/total_1 * 100\n",
        "\n",
        "total_10 = rdd_contents[('>10', comento)] + rdd_contents[('>10', no_comento)]\n",
        "sin_comentar_10 = rdd_contents[('>10', no_comento)]\n",
        "porcentaje_10 =  sin_comentar_10/total_10 * 100\n",
        "\n",
        "total_100 = rdd_contents[('>100', comento)] + rdd_contents[('>100', no_comento)]\n",
        "sin_comentar_100 = rdd_contents[('>100', no_comento)]\n",
        "porcentaje_100 =  sin_comentar_100/total_100 * 100\n",
        "\n",
        "resultado = (('1', porcentaje_1), ('>10', porcentaje_10),('>100', porcentaje_100))\n",
        "resultado = sc.parallelize(resultado,1)\n",
        "resultado.collect()"
      ],
      "metadata": {
        "colab": {
          "base_uri": "https://localhost:8080/"
        },
        "id": "hgnqaSVMwv2d",
        "outputId": "2342ad2f-5138-4e8c-fff1-4a67a3df850a"
      },
      "execution_count": null,
      "outputs": [
        {
          "output_type": "execute_result",
          "data": {
            "text/plain": [
              "[('1', 25.62560542460446),\n",
              " ('>10', 21.839550808565303),\n",
              " ('>100', 9.236335081319941)]"
            ]
          },
          "metadata": {},
          "execution_count": 13
        }
      ]
    },
    {
      "cell_type": "markdown",
      "source": [
        "# Ejercicio 35"
      ],
      "metadata": {
        "id": "LREGmXGqh2qV"
      }
    },
    {
      "cell_type": "markdown",
      "source": [
        "35. ¿Cuál es el mínimo que ha durado desde su registro un usuario bloqueado en la plataforma? (⭐⭐)"
      ],
      "metadata": {
        "id": "bm1YW1PUIx4w"
      }
    },
    {
      "cell_type": "code",
      "source": [
        "spark = SparkSession.builder.getOrCreate()\n",
        "sc = spark.sparkContext"
      ],
      "metadata": {
        "id": "M3-pSQ7SiGWc"
      },
      "execution_count": null,
      "outputs": []
    },
    {
      "cell_type": "code",
      "source": [
        "sqlContext = SQLContext(sc)\n",
        "df_logs = sqlContext.read.csv(\"/content/drive/MyDrive/Colab Notebooks/logs.csv\", header=True, inferSchema=True)"
      ],
      "metadata": {
        "colab": {
          "base_uri": "https://localhost:8080/"
        },
        "outputId": "7e3dacd5-0983-4701-d083-ca9dcf655163",
        "id": "-LeJ_XFbiGWd"
      },
      "execution_count": null,
      "outputs": [
        {
          "output_type": "stream",
          "name": "stderr",
          "text": [
            "/usr/local/lib/python3.10/dist-packages/pyspark/sql/context.py:112: FutureWarning: Deprecated in 3.0.0. Use SparkSession.builder.getOrCreate() instead.\n",
            "  warnings.warn(\n"
          ]
        }
      ]
    },
    {
      "cell_type": "markdown",
      "source": [
        "Se que el logtype newuserts tiene la accion create, pero que otros logtypes tambien tienen create, por lo que necesito filtrar por ambos.\n",
        "\n",
        "Por otro lado el logtype block tiene reblock, block y unblock, pero ningun otro logtype tiene block y reblock, por lo que solo me interesa action."
      ],
      "metadata": {
        "id": "SDJzZv6mEkxP"
      }
    },
    {
      "cell_type": "code",
      "source": [
        "rdd_creacion = df_logs.select(\"logtype\",\"action\",\"timestamp\",\"title\").rdd\n",
        "rdd_bloqueos = df_logs.select(\"action\",\"timestamp\",\"title\").rdd"
      ],
      "metadata": {
        "id": "Y1imWsNqCLwo"
      },
      "execution_count": null,
      "outputs": []
    },
    {
      "cell_type": "markdown",
      "source": [
        "* Filtro los registros donde el usuario creado es nan, y me quedo solo con los newusers creados\n",
        "* Filtro para quedarme solo los action de block y reblock y que sepa q usuario se blockeo (filtro nans)"
      ],
      "metadata": {
        "id": "IgF3z3u0GZWZ"
      }
    },
    {
      "cell_type": "code",
      "source": [
        "rdd_creacion = rdd_creacion.filter(lambda x: x.title != None and x.logtype == 'newusers' and x.action == 'create')\n",
        "rdd_bloqueos = rdd_bloqueos.filter(lambda x: x.title != None and (x.action == 'block' or x.action == 'reblock'))"
      ],
      "metadata": {
        "id": "2sKv_ObIFozo"
      },
      "execution_count": null,
      "outputs": []
    },
    {
      "cell_type": "markdown",
      "source": [
        "BLOQUEOS\n",
        "\n",
        "Agrupo las veces que bloquearon a cada usuario"
      ],
      "metadata": {
        "id": "3aKiXTjGHlgl"
      }
    },
    {
      "cell_type": "code",
      "source": [
        "rdd_bloqueos = rdd_bloqueos.map(lambda x: (x.title, x.timestamp))\n",
        "rdd_bloqueos = rdd_bloqueos.groupByKey(1)\n",
        "rdd_bloqueos = rdd_bloqueos.mapValues(list)"
      ],
      "metadata": {
        "id": "lXlRvNWSHkye"
      },
      "execution_count": null,
      "outputs": []
    },
    {
      "cell_type": "markdown",
      "source": [
        "CREACIONES\n",
        "\n",
        "Me lo guardo como clave,valor, donde la clave es el usuario y el valor cuando se creó"
      ],
      "metadata": {
        "id": "LskG8ajjKxf0"
      }
    },
    {
      "cell_type": "code",
      "source": [
        "rdd_creacion = rdd_creacion.map(lambda x: (x.title,x.timestamp))"
      ],
      "metadata": {
        "id": "yQTjneAXKwFX"
      },
      "execution_count": null,
      "outputs": []
    },
    {
      "cell_type": "markdown",
      "source": [
        "Creo un RDD para trabajar que tenga todos los datos."
      ],
      "metadata": {
        "id": "U-8dKJ7ANaht"
      }
    },
    {
      "cell_type": "code",
      "source": [
        "from datetime import datetime\n",
        "from datetime import timedelta\n",
        "cero = timedelta(seconds = 0)\n",
        "\n",
        "def minimo_tiempo(creacion, lista_bloqueos):\n",
        "\n",
        "  creacion = creacion\n",
        "  tiempo_creacion = datetime.strptime(creacion,\"%Y-%m-%dT%H:%M:%SZ\")\n",
        "\n",
        "  primer_bloqueo = lista_bloqueos[0]\n",
        "  tiempo_primer_bloqueo =  datetime.strptime(primer_bloqueo,\"%Y-%m-%dT%H:%M:%SZ\")\n",
        "\n",
        "  min = tiempo_primer_bloqueo - tiempo_creacion\n",
        "\n",
        "\n",
        "  for bloqueo in lista_bloqueos:\n",
        "    tiempo_bloqueo_actual = datetime.strptime(bloqueo,\"%Y-%m-%dT%H:%M:%SZ\")\n",
        "    diferencia = tiempo_bloqueo_actual - tiempo_creacion\n",
        "    if ((diferencia <= min and diferencia > cero) or min < cero):\n",
        "      min = diferencia\n",
        "\n",
        "  return min"
      ],
      "metadata": {
        "id": "3xzm8GVkvltD"
      },
      "execution_count": null,
      "outputs": []
    },
    {
      "cell_type": "markdown",
      "source": [
        "Los usuarios bloqueados son 299.727 mientras que los creados son 4.742.390, por lo que los filtro en base a los bloqueados.\n",
        "\n",
        "A su vez debido a la cantidad de datos, elijo realizar un diccionario y acceder al mismo en vez de utilizar un join con ambos rdd lo cual disminuye considerablemente el tiempo (debido a que bloqueados no cuenta con gran tamaño frente a creados)."
      ],
      "metadata": {
        "id": "wnHkrY0LqAoC"
      }
    },
    {
      "cell_type": "code",
      "source": [
        "dic = rdd_bloqueos.collectAsMap()"
      ],
      "metadata": {
        "id": "7bAYGzsFVT6I"
      },
      "execution_count": null,
      "outputs": []
    },
    {
      "cell_type": "markdown",
      "source": [
        "Me quedo solo con los creados que fueron bloqueados alguna vez, calculo su tiempo minimo entre creacion y bloqueo (evitando el negativo de ser posible), borro los negativos que quedan de forma inevitable y me quedo con el menor valor."
      ],
      "metadata": {
        "id": "tkZVYdJcmBmo"
      }
    },
    {
      "cell_type": "code",
      "source": [
        "resultado = rdd_creacion.filter(lambda x: x[0] in dic.keys())\n",
        "resultado = resultado.map(lambda x: (x[0], minimo_tiempo(x[1], dic[x[0]])))\n",
        "resultado = resultado.filter(lambda x: x[1] > cero)\n",
        "resultado.reduce(lambda x,y: x if x[1]<y[1] else y)\n"
      ],
      "metadata": {
        "colab": {
          "base_uri": "https://localhost:8080/"
        },
        "id": "kOmEjUisVmVU",
        "outputId": "d07c05d1-17c5-4565-cece-c02515211559"
      },
      "execution_count": null,
      "outputs": [
        {
          "output_type": "execute_result",
          "data": {
            "text/plain": [
              "('Usuario:Unfollow Ariiana Grande 03.07.2021 7', datetime.timedelta(seconds=4))"
            ]
          },
          "metadata": {},
          "execution_count": 13
        }
      ]
    },
    {
      "cell_type": "markdown",
      "source": [
        "# Ejercicio 38"
      ],
      "metadata": {
        "id": "IO4fxawWiKDk"
      }
    },
    {
      "cell_type": "markdown",
      "metadata": {
        "id": "7C1lPoi4u5pt"
      },
      "source": [
        "Si decimos que la ubicación de un usuario es el promedio de la latitud y longitud de los contenidos geolocalizados para los cuales editó la última versión (ignorar usuarios que no editaron contenido geolocalizado). ¿Cuáles son los dos usuarios más cercanos? (⭐⭐⭐)"
      ]
    },
    {
      "cell_type": "code",
      "execution_count": null,
      "metadata": {
        "id": "IXp-URFXiQSU"
      },
      "outputs": [],
      "source": [
        "spark = SparkSession.builder.getOrCreate()\n",
        "sc = spark.sparkContext"
      ]
    },
    {
      "cell_type": "code",
      "execution_count": null,
      "metadata": {
        "colab": {
          "base_uri": "https://localhost:8080/"
        },
        "outputId": "1dd38055-a960-4fea-bd32-f9434e651cab",
        "id": "UibPm69ViQSV"
      },
      "outputs": [
        {
          "output_type": "stream",
          "name": "stderr",
          "text": [
            "/usr/local/lib/python3.10/dist-packages/pyspark/sql/context.py:112: FutureWarning: Deprecated in 3.0.0. Use SparkSession.builder.getOrCreate() instead.\n",
            "  warnings.warn(\n"
          ]
        }
      ],
      "source": [
        "sqlContext = SQLContext(sc)\n",
        "df_contents = sqlContext.read.csv(\"/content/drive/MyDrive/Colab Notebooks/contents.csv\", header=True, inferSchema=True)\n",
        "df_geo_tags = sqlContext.read.csv(\"/content/drive/MyDrive/Colab Notebooks/geo_tags.csv\", header=True, inferSchema=True)\n"
      ]
    },
    {
      "cell_type": "markdown",
      "metadata": {
        "id": "ypEgID1qiQSV"
      },
      "source": [
        "Se que el logtype newuserts tiene la accion create, pero que otros logtypes tambien tienen create, por lo que necesito filtrar por ambos.\n",
        "\n",
        "Por otro lado el logtype block tiene reblock, block y unblock, pero ningun otro logtype tiene block y reblock, por lo que solo me interesa action."
      ]
    },
    {
      "cell_type": "code",
      "execution_count": null,
      "metadata": {
        "id": "plD4b7QziQSV"
      },
      "outputs": [],
      "source": [
        "rdd_usuarios = df_contents.select(\"id\",\"revisor_id\").rdd\n",
        "rdd_geo = df_geo_tags.select(\"gt_page_id\",\"gt_lat\",\"gt_lon\").rdd"
      ]
    },
    {
      "cell_type": "markdown",
      "metadata": {
        "id": "_16x0bH8c8lE"
      },
      "source": [
        "Filtro aquellas filas que no tengan la informacion suficiente para ser consideradas en la busqueda."
      ]
    },
    {
      "cell_type": "code",
      "execution_count": null,
      "metadata": {
        "id": "rBpskYHecAKD"
      },
      "outputs": [],
      "source": [
        "rdd_usuarios = rdd_usuarios.filter(lambda x: x.revisor_id != None and x.id != None)\n",
        "rdd_geo = rdd_geo.filter(lambda x: x.gt_page_id != None and x.gt_lat != None and x.gt_lon != None)"
      ]
    },
    {
      "cell_type": "code",
      "execution_count": null,
      "metadata": {
        "id": "jIkgyCxYec26"
      },
      "outputs": [],
      "source": [
        "rdd_usuarios = rdd_usuarios.map(lambda x: (x.id,x.revisor_id))\n",
        "rdd_geo = rdd_geo.map(lambda x: (str(x.gt_page_id),(x.gt_lat,x.gt_lon)))"
      ]
    },
    {
      "cell_type": "markdown",
      "metadata": {
        "id": "c-A-iwwrhz8i"
      },
      "source": [
        "Me quedo solo con los contenidos geolocalizados de los cuales tengo un usuario asociado y viceversa (inner)"
      ]
    },
    {
      "cell_type": "code",
      "execution_count": null,
      "metadata": {
        "id": "9IM0ZNKVhdKi"
      },
      "outputs": [],
      "source": [
        "rdd_datos = rdd_usuarios.join(rdd_geo)"
      ]
    },
    {
      "cell_type": "markdown",
      "metadata": {
        "id": "G_u_EfjXqFs2"
      },
      "source": [
        "Me quedo solo con (usuario, (lat,long))"
      ]
    },
    {
      "cell_type": "code",
      "execution_count": null,
      "metadata": {
        "id": "QdRqz7bbhzVI"
      },
      "outputs": [],
      "source": [
        "rdd_datos = rdd_datos.map(lambda x: (x[1][0],x[1][1]))\n"
      ]
    },
    {
      "cell_type": "markdown",
      "metadata": {
        "id": "Ij76P8ums68Z"
      },
      "source": [
        "Guardo todo como (usuario, lista de lat y longitudes)"
      ]
    },
    {
      "cell_type": "code",
      "execution_count": null,
      "metadata": {
        "id": "GWqdZMdUqAv8"
      },
      "outputs": [],
      "source": [
        "rdd_datos = rdd_datos.groupByKey()\n",
        "rdd_datos = rdd_datos.mapValues(list)"
      ]
    },
    {
      "cell_type": "code",
      "execution_count": null,
      "metadata": {
        "id": "NgAyEeJkrnBV"
      },
      "outputs": [],
      "source": [
        "def promedio(tuplas):\n",
        "  resultado_lat = 0\n",
        "  resultado_lon = 0\n",
        "  cantidad = 0\n",
        "  for tupla in tuplas:\n",
        "    resultado_lat += tupla[0]\n",
        "    resultado_lon += tupla[1]\n",
        "    cantidad += 1\n",
        "  return (resultado_lat/cantidad, resultado_lon/cantidad)"
      ]
    },
    {
      "cell_type": "markdown",
      "source": [
        "Consigo la ubicacion de cada usuario sacando el promedio de sus lat y long de contenidos"
      ],
      "metadata": {
        "id": "CQJFX3n_0Bh5"
      }
    },
    {
      "cell_type": "code",
      "execution_count": null,
      "metadata": {
        "id": "hMJ78mWasZ4t"
      },
      "outputs": [],
      "source": [
        "rdd_datos = rdd_datos.map(lambda x: (x[0], promedio(x[1])))"
      ]
    },
    {
      "cell_type": "markdown",
      "source": [
        "Agrupo aquellos usuarios que tengan la misma ubicacion y se que esos son los que estan mas cercanos entre si."
      ],
      "metadata": {
        "id": "yPQjoQCZygEH"
      }
    },
    {
      "cell_type": "code",
      "source": [
        "rdd_datos = rdd_datos.map(lambda x: (x[1],x[0]))\n",
        "rdd_datos = rdd_datos.groupByKey().mapValues(list)\n",
        "rdd_datos = rdd_datos.filter(lambda x: len(x[1]) > 1)"
      ],
      "metadata": {
        "id": "IeWzbonnyO5S"
      },
      "execution_count": null,
      "outputs": []
    },
    {
      "cell_type": "markdown",
      "source": [
        "Los usuarios mas cercanos son cualquiera pertenecientes a una misma ubicacion:\n",
        "((ubicacion),[lista usuarios])"
      ],
      "metadata": {
        "id": "osb_k48Ezhce"
      }
    },
    {
      "cell_type": "code",
      "source": [
        "rdd_datos.collect()"
      ],
      "metadata": {
        "colab": {
          "base_uri": "https://localhost:8080/"
        },
        "id": "fFj_u7cdyt6N",
        "outputId": "2cf4318a-d410-4fc5-8627-6a51b92c05d7"
      },
      "execution_count": null,
      "outputs": [
        {
          "output_type": "execute_result",
          "data": {
            "text/plain": [
              "[((43.31833333, 11.33138889), ['4451795', '6217219']),\n",
              " ((-33.35, -70.51666667), ['6092354', '5894133']),\n",
              " ((3.521642, -76.417036), ['6093271', '6289014']),\n",
              " ((35.68972222, 139.69222222), ['6190329', '3899149']),\n",
              " ((42.14166667, -7.97611111), ['6269272', '6269271']),\n",
              " ((19.33202222, -99.19635833), ['5521795', '2045384']),\n",
              " ((13.70853611, -89.24098889), ['6011069', '6024005']),\n",
              " ((39.95694444, -3.49666667), ['450789', '1682668']),\n",
              " ((-34.60180556, -58.39944444), ['4999877', '6304273']),\n",
              " ((22.767, 108.388), ['4898811', '5642895']),\n",
              " ((10.45, -64.16666667), ['1981184', '6279043'])]"
            ]
          },
          "metadata": {},
          "execution_count": 153
        }
      ]
    }
  ]
}