{
  "cells": [
    {
      "cell_type": "code",
      "execution_count": null,
      "metadata": {
        "id": "n5CsOm-2J4HD"
      },
      "outputs": [],
      "source": [
        "import plotly.express as px\n",
        "import pandas as pd\n",
        "import numpy as numpy"
      ]
    },
    {
      "cell_type": "code",
      "execution_count": null,
      "metadata": {
        "colab": {
          "base_uri": "https://localhost:8080/"
        },
        "id": "AgYR37HqKB0k",
        "outputId": "f180c857-02a4-45b5-d28c-3c78663882e8"
      },
      "outputs": [
        {
          "output_type": "stream",
          "name": "stdout",
          "text": [
            "Mounted at /content/drive\n"
          ]
        }
      ],
      "source": [
        "from google.colab import drive\n",
        "drive.mount('/content/drive')"
      ]
    },
    {
      "cell_type": "code",
      "execution_count": null,
      "metadata": {
        "id": "fJ7mWv2qbb3F"
      },
      "outputs": [],
      "source": [
        "hongos = pd.read_csv(\"/content/drive/MyDrive/Colab Notebooks/secondary_data.csv\", sep=\";\")\n"
      ]
    },
    {
      "cell_type": "markdown",
      "metadata": {
        "id": "wIfjVITlC2cl"
      },
      "source": [
        "# Nans:\n"
      ]
    },
    {
      "cell_type": "markdown",
      "metadata": {
        "id": "BF5JnxHfmA-3"
      },
      "source": [
        "**Las siguientes variables cuentan con valores de Nan y seran reemplazadas. Como regla general, se utilizara other cuando se puede asegurar que tiene valor y unknown cuando no se sabe si siquiera ese dato podria tener valor (caso de color/forma de cosas que no se sabe siquiera si lo tiene, etc).**\n",
        "\n",
        "\n",
        "- Cap surface: como es un dato que obligatoriamente tiene cualquier hongo, voy   a tomar los nan y los \"d\" (debido a que es un valor no especificado en el paper) como otros = \"o\"\n",
        "\n",
        "- gill-attachment: El nan se especifica que es desconocido por el paper (unknown=?) asi que sera reemplazado por \"u\".\n",
        "\n",
        "- Gill-Spacing:\n",
        "  1. Para los hongos que tienen gill-attachment none (f): se reemplazara por f. Esto se ve respaldado por el hecho que todos los hongos que no tienen gill.attachment y tienen gill-spacing conocido tienen valor f, no puede tener spacing si no tiene gills.\n",
        "\n",
        "  2. Para los hongos que tienen gill-attachment distinto a u/f: seran reemplazados por others = \"o\" puesto que se sabe que si tienen gills, solo que no se sabe el spacing.\n",
        "\n",
        "  3. Para los que no se sabe si tienen gill-attachment (u), se utilizara unknown = \"u\".\n",
        "\n",
        "- Stem-Root: existe un valor desconocido, que no aparece en la documentacion (f) y Nans, ambos seran reemplazados por other, puesto que si o si tiene que tener stem.\n",
        "\n",
        "- Stem-Surface: debido a que todo registro tiene stem-height/width/color es un poco raro que exista la posibilidad de tener none (f) como valor posible, puesto que todo tiene alguna textura de superficie. Para que tengan sentido los nans y los f se utilizara other = \"o\".\n",
        "\n",
        "- veil-type: puesto que no puedo asumir que porque ninguno es parcial que alguno de ellos lo es, se reemplazaran los nans de la siguiente forma:\n",
        "  1. Aquellos que tengan veil-color distinto a Nan o f: other = \"o\".\n",
        "  \n",
        "  2. Aquellos que no se sepa el veil-color: unknown = \"n\". Se utiliza porque ya existe la u como valor.\n",
        "\n",
        "- Veil-color:\n",
        "  1. Si veil-type es unknown: unknown (n, puesto que ya existe u).\n",
        "  2. Si veil.type es distinto a uknown: other.\n",
        "\n",
        "- Ring-type: se especifica la existencia de unknown = ?, por lo que sera reemplazado por \"u\".\n",
        "\n",
        "- spore-print-color: Nans seran reemplazados por other = \"o\".\n"
      ]
    },
    {
      "cell_type": "code",
      "execution_count": null,
      "metadata": {
        "id": "JtY3FNMS1xT6"
      },
      "outputs": [],
      "source": [
        "#Cap surface:\n",
        "hongos.loc[hongos['cap-surface'] == 'd', 'cap-surface'] = \"o\"\n",
        "hongos['cap-surface'] = hongos['cap-surface'].fillna(\"o\")\n",
        "\n",
        "#gill-attachment:\n",
        "hongos['gill-attachment'] = hongos['gill-attachment'].fillna(\"u\")\n",
        "\n",
        "#gill-spacing\n",
        "hongos.loc[(hongos['gill-attachment'] == 'f') & (hongos['gill-spacing'].isnull()), 'gill-spacing'] = \"f\"\n",
        "hongos.loc[(hongos['gill-attachment'] == 'u') & (hongos['gill-spacing'].isnull()), 'gill-spacing'] = \"u\"\n",
        "hongos['gill-spacing'] = hongos['gill-spacing'].fillna(\"o\")\n",
        "\n",
        "#Stem-Root:\n",
        "hongos.loc[hongos['stem-root'] == 'f', 'stem-root'] = \"o\"\n",
        "hongos['stem-root'] = hongos['stem-root'].fillna(\"o\")\n",
        "\n",
        "#stem-surface\n",
        "hongos.loc[hongos['stem-surface'] == 'f', 'stem-surface'] = \"o\"\n",
        "hongos['stem-surface'] = hongos['stem-surface'].fillna(\"o\")\n",
        "\n",
        "#Veil-Type (noto que veil-color no tiene f, solo nan)\n",
        "hongos.loc[(hongos['veil-color'].notnull()) & (hongos['veil-type'].isnull()), 'veil-type'] = \"o\"\n",
        "hongos['veil-type'] = hongos['veil-type'].fillna(\"n\") #ya existe u\n",
        "\n",
        "#Veil-color\n",
        "hongos.loc[(hongos['veil-type'] == 'n') & (hongos['veil-color'].isnull()), 'veil-color'] = \"n\" #ya existe u\n",
        "hongos['veil-color'] = hongos['veil-color'].fillna(\"n\")\n",
        "\n",
        "#ring-type:\n",
        "hongos['ring-type'] = hongos['ring-type'].fillna(\"u\")\n",
        "\n",
        "#Spore-print-color:\n",
        "hongos['spore-print-color'] = hongos['spore-print-color'].fillna(\"o\")\n"
      ]
    },
    {
      "cell_type": "markdown",
      "metadata": {
        "id": "JLRHvnKDQpDU"
      },
      "source": [
        "# Separar datos"
      ]
    },
    {
      "cell_type": "code",
      "execution_count": null,
      "metadata": {
        "id": "4coCLy2ogxrj"
      },
      "outputs": [],
      "source": [
        "from sklearn.model_selection import train_test_split"
      ]
    },
    {
      "cell_type": "code",
      "execution_count": null,
      "metadata": {
        "id": "PSowpGg2bQ6x"
      },
      "outputs": [],
      "source": [
        "x = hongos.drop('class', axis=1)\n",
        "y = hongos['class']"
      ]
    },
    {
      "cell_type": "code",
      "source": [
        "x = x.astype({\"stem-height\":\"float\",\"stem-width\":\"float\",\"cap-diameter\":\"float\"})"
      ],
      "metadata": {
        "id": "iPxnUKHsQRca"
      },
      "execution_count": null,
      "outputs": []
    },
    {
      "cell_type": "code",
      "source": [
        "from sklearn.preprocessing import StandardScaler"
      ],
      "metadata": {
        "id": "wvttse1qv8a6"
      },
      "execution_count": null,
      "outputs": []
    },
    {
      "cell_type": "code",
      "source": [
        "scaler = StandardScaler()"
      ],
      "metadata": {
        "id": "ROGdPrt5v8a6"
      },
      "execution_count": null,
      "outputs": []
    },
    {
      "cell_type": "code",
      "source": [
        "x[['stem-height','stem-width','cap-diameter']] = pd.DataFrame(scaler.fit_transform(x[['stem-height','stem-width','cap-diameter']]), columns=[['stem-height','stem-width','cap-diameter']])"
      ],
      "metadata": {
        "id": "oNYKsaN-v8a7"
      },
      "execution_count": null,
      "outputs": []
    },
    {
      "cell_type": "code",
      "execution_count": null,
      "metadata": {
        "id": "CJ1WsgJTbT9p"
      },
      "outputs": [],
      "source": [
        "x_train, x_separar, y_train, y_separar = train_test_split(x, y, test_size=0.2, random_state=5)"
      ]
    },
    {
      "cell_type": "code",
      "execution_count": null,
      "metadata": {
        "id": "z9rY1lRlbjwC"
      },
      "outputs": [],
      "source": [
        "x_test, x_validation, y_test, y_validation = train_test_split(x_separar, y_separar, test_size=0.5, random_state=5)"
      ]
    },
    {
      "cell_type": "code",
      "source": [
        "#Me los guardo para que el csv quede sin las columnas encodeadas\n",
        "x_test_sin_encodear = x_test\n",
        "y_test_sin_encodear = y_test"
      ],
      "metadata": {
        "id": "rScV-rur87E8"
      },
      "execution_count": null,
      "outputs": []
    },
    {
      "cell_type": "markdown",
      "metadata": {
        "id": "ncP9QLJnCyHc"
      },
      "source": [
        "# Encoding"
      ]
    },
    {
      "cell_type": "markdown",
      "source": [
        "Realizo el encoding de test, validation y train por separado asi no filtro datos. Se eligieron los encoders Binary Encoder y OHE.\n"
      ],
      "metadata": {
        "id": "UeHPRvIQANdx"
      }
    },
    {
      "cell_type": "code",
      "execution_count": null,
      "metadata": {
        "colab": {
          "base_uri": "https://localhost:8080/"
        },
        "id": "ctoGXNAJQgjm",
        "outputId": "509f94da-28e6-42c2-8b02-c94a324da149"
      },
      "outputs": [
        {
          "output_type": "stream",
          "name": "stdout",
          "text": [
            "Looking in indexes: https://pypi.org/simple, https://us-python.pkg.dev/colab-wheels/public/simple/\n",
            "Collecting category_encoders\n",
            "  Downloading category_encoders-2.6.1-py2.py3-none-any.whl (81 kB)\n",
            "\u001b[2K     \u001b[90m━━━━━━━━━━━━━━━━━━━━━━━━━━━━━━━━━━━━━━━━\u001b[0m \u001b[32m81.9/81.9 kB\u001b[0m \u001b[31m8.7 MB/s\u001b[0m eta \u001b[36m0:00:00\u001b[0m\n",
            "\u001b[?25hRequirement already satisfied: numpy>=1.14.0 in /usr/local/lib/python3.10/dist-packages (from category_encoders) (1.22.4)\n",
            "Requirement already satisfied: scikit-learn>=0.20.0 in /usr/local/lib/python3.10/dist-packages (from category_encoders) (1.2.2)\n",
            "Requirement already satisfied: scipy>=1.0.0 in /usr/local/lib/python3.10/dist-packages (from category_encoders) (1.10.1)\n",
            "Requirement already satisfied: statsmodels>=0.9.0 in /usr/local/lib/python3.10/dist-packages (from category_encoders) (0.13.5)\n",
            "Requirement already satisfied: pandas>=1.0.5 in /usr/local/lib/python3.10/dist-packages (from category_encoders) (1.5.3)\n",
            "Requirement already satisfied: patsy>=0.5.1 in /usr/local/lib/python3.10/dist-packages (from category_encoders) (0.5.3)\n",
            "Requirement already satisfied: python-dateutil>=2.8.1 in /usr/local/lib/python3.10/dist-packages (from pandas>=1.0.5->category_encoders) (2.8.2)\n",
            "Requirement already satisfied: pytz>=2020.1 in /usr/local/lib/python3.10/dist-packages (from pandas>=1.0.5->category_encoders) (2022.7.1)\n",
            "Requirement already satisfied: six in /usr/local/lib/python3.10/dist-packages (from patsy>=0.5.1->category_encoders) (1.16.0)\n",
            "Requirement already satisfied: joblib>=1.1.1 in /usr/local/lib/python3.10/dist-packages (from scikit-learn>=0.20.0->category_encoders) (1.2.0)\n",
            "Requirement already satisfied: threadpoolctl>=2.0.0 in /usr/local/lib/python3.10/dist-packages (from scikit-learn>=0.20.0->category_encoders) (3.1.0)\n",
            "Requirement already satisfied: packaging>=21.3 in /usr/local/lib/python3.10/dist-packages (from statsmodels>=0.9.0->category_encoders) (23.1)\n",
            "Installing collected packages: category_encoders\n",
            "Successfully installed category_encoders-2.6.1\n"
          ]
        }
      ],
      "source": [
        "from sklearn.preprocessing import OneHotEncoder\n",
        "!pip install category_encoders\n",
        "import category_encoders as ce"
      ]
    },
    {
      "cell_type": "code",
      "source": [
        "columnas = ['cap-shape','cap-surface','cap-color','gill-attachment','gill-spacing','gill-color','stem-root','stem-surface','stem-color',\n",
        "            'veil-type','veil-color','ring-type','spore-print-color','habitat','season']\n",
        "for columna in columnas:\n",
        "  encoder = ce.BinaryEncoder(cols=[columna])\n",
        "  x_train = encoder.fit_transform(x_train)\n",
        "\n",
        "  x_test = encoder.transform(x_test)\n",
        "  x_validation = encoder.transform(x_validation)"
      ],
      "metadata": {
        "id": "tJr0Vkhsp5qi"
      },
      "execution_count": null,
      "outputs": []
    },
    {
      "cell_type": "code",
      "execution_count": null,
      "metadata": {
        "id": "HunwSAMGjULr"
      },
      "outputs": [],
      "source": [
        "#bleed\n",
        "ohe_bleed = OneHotEncoder(drop='first')\n",
        "x_train['does-bruise-or-bleed'] = ohe_bleed.fit_transform(x_train[['does-bruise-or-bleed']]).todense().astype(int)\n",
        "\n",
        "x_test['does-bruise-or-bleed'] = ohe_bleed.transform(x_test[['does-bruise-or-bleed']]).todense().astype(int)\n",
        "x_validation['does-bruise-or-bleed']= ohe_bleed.transform(x_validation[['does-bruise-or-bleed']]).todense().astype(int)\n"
      ]
    },
    {
      "cell_type": "code",
      "execution_count": null,
      "metadata": {
        "id": "26HXEsvSkX0H"
      },
      "outputs": [],
      "source": [
        "# has-ring\n",
        "ohe_ring = OneHotEncoder(drop='first')\n",
        "x_train['has-ring'] = ohe_ring.fit_transform(x_train[['has-ring']]).todense().astype(int)\n",
        "\n",
        "x_test['has-ring'] = ohe_ring.transform(x_test[['has-ring']]).todense().astype(int)\n",
        "x_validation['has-ring']= ohe_ring.transform(x_validation[['has-ring']]).todense().astype(int)\n"
      ]
    },
    {
      "cell_type": "markdown",
      "source": [
        "Encodeo target"
      ],
      "metadata": {
        "id": "HCyI8BJDp_sx"
      }
    },
    {
      "cell_type": "code",
      "execution_count": null,
      "metadata": {
        "id": "BY79ExFgelFt"
      },
      "outputs": [],
      "source": [
        "#class\n",
        "class_OHE = ce.OneHotEncoder(cols=['class'])\n",
        "\n",
        "y_train = class_OHE.fit_transform(y_train).iloc[:, 0]\n",
        "\n",
        "y_test =  class_OHE.transform(y_test).iloc[:, 0]\n",
        "y_validation =  class_OHE.transform(y_validation).iloc[:, 0]\n"
      ]
    },
    {
      "cell_type": "markdown",
      "metadata": {
        "id": "GdWqH89-DZj3"
      },
      "source": [
        "# Regresion Logistica\n"
      ]
    },
    {
      "cell_type": "code",
      "execution_count": null,
      "metadata": {
        "id": "5If535QBRLcv"
      },
      "outputs": [],
      "source": [
        "from sklearn.model_selection import RandomizedSearchCV\n",
        "from sklearn.model_selection import GridSearchCV\n",
        "from sklearn.linear_model import LogisticRegression\n",
        "from sklearn.metrics import confusion_matrix, accuracy_score\n",
        "from sklearn.metrics import roc_auc_score"
      ]
    },
    {
      "cell_type": "code",
      "execution_count": null,
      "metadata": {
        "id": "oa168Qs0ktoY"
      },
      "outputs": [],
      "source": [
        "log_reg = LogisticRegression(random_state = 0, max_iter= 10000)"
      ]
    },
    {
      "cell_type": "code",
      "execution_count": null,
      "metadata": {
        "id": "EEexJlQzgxro"
      },
      "outputs": [],
      "source": [
        "params = [\n",
        "    {'penalty': ['l1', 'l2', 'elasticnet', 'None']},\n",
        "    {'C': [ 1.376,1.378,1.379,1.38,1.381,1.382,1.383]},\n",
        "    {'solver':['lbfgs', 'newton-cg','newton-cholesky']}\n",
        "]"
      ]
    },
    {
      "cell_type": "code",
      "execution_count": null,
      "metadata": {
        "id": "UcFwh6Qbgxrq"
      },
      "outputs": [],
      "source": [
        "grid_search = GridSearchCV(log_reg, param_grid =params, scoring='roc_auc')"
      ]
    },
    {
      "cell_type": "code",
      "execution_count": null,
      "metadata": {
        "id": "H4P9eMthgxrs",
        "colab": {
          "base_uri": "https://localhost:8080/",
          "height": 915
        },
        "outputId": "06122de3-6acf-4491-d537-8fc01f4d6910"
      },
      "outputs": [
        {
          "output_type": "stream",
          "name": "stderr",
          "text": [
            "/usr/local/lib/python3.10/dist-packages/sklearn/model_selection/_validation.py:378: FitFailedWarning: \n",
            "15 fits failed out of a total of 70.\n",
            "The score on these train-test partitions for these parameters will be set to nan.\n",
            "If these failures are not expected, you can try to debug them by setting error_score='raise'.\n",
            "\n",
            "Below are more details about the failures:\n",
            "--------------------------------------------------------------------------------\n",
            "5 fits failed with the following error:\n",
            "Traceback (most recent call last):\n",
            "  File \"/usr/local/lib/python3.10/dist-packages/sklearn/model_selection/_validation.py\", line 686, in _fit_and_score\n",
            "    estimator.fit(X_train, y_train, **fit_params)\n",
            "  File \"/usr/local/lib/python3.10/dist-packages/sklearn/linear_model/_logistic.py\", line 1162, in fit\n",
            "    solver = _check_solver(self.solver, self.penalty, self.dual)\n",
            "  File \"/usr/local/lib/python3.10/dist-packages/sklearn/linear_model/_logistic.py\", line 54, in _check_solver\n",
            "    raise ValueError(\n",
            "ValueError: Solver lbfgs supports only 'l2' or 'none' penalties, got l1 penalty.\n",
            "\n",
            "--------------------------------------------------------------------------------\n",
            "5 fits failed with the following error:\n",
            "Traceback (most recent call last):\n",
            "  File \"/usr/local/lib/python3.10/dist-packages/sklearn/model_selection/_validation.py\", line 686, in _fit_and_score\n",
            "    estimator.fit(X_train, y_train, **fit_params)\n",
            "  File \"/usr/local/lib/python3.10/dist-packages/sklearn/linear_model/_logistic.py\", line 1162, in fit\n",
            "    solver = _check_solver(self.solver, self.penalty, self.dual)\n",
            "  File \"/usr/local/lib/python3.10/dist-packages/sklearn/linear_model/_logistic.py\", line 54, in _check_solver\n",
            "    raise ValueError(\n",
            "ValueError: Solver lbfgs supports only 'l2' or 'none' penalties, got elasticnet penalty.\n",
            "\n",
            "--------------------------------------------------------------------------------\n",
            "5 fits failed with the following error:\n",
            "Traceback (most recent call last):\n",
            "  File \"/usr/local/lib/python3.10/dist-packages/sklearn/model_selection/_validation.py\", line 686, in _fit_and_score\n",
            "    estimator.fit(X_train, y_train, **fit_params)\n",
            "  File \"/usr/local/lib/python3.10/dist-packages/sklearn/linear_model/_logistic.py\", line 1160, in fit\n",
            "    self._validate_params()\n",
            "  File \"/usr/local/lib/python3.10/dist-packages/sklearn/base.py\", line 600, in _validate_params\n",
            "    validate_parameter_constraints(\n",
            "  File \"/usr/local/lib/python3.10/dist-packages/sklearn/utils/_param_validation.py\", line 97, in validate_parameter_constraints\n",
            "    raise InvalidParameterError(\n",
            "sklearn.utils._param_validation.InvalidParameterError: The 'penalty' parameter of LogisticRegression must be a str among {'l1', 'l2', 'none' (deprecated), 'elasticnet'} or None. Got 'None' instead.\n",
            "\n",
            "  warnings.warn(some_fits_failed_message, FitFailedWarning)\n",
            "/usr/local/lib/python3.10/dist-packages/sklearn/model_selection/_search.py:952: UserWarning: One or more of the test scores are non-finite: [       nan 0.87443007        nan        nan 0.8744972  0.87450246\n",
            " 0.87450231 0.87450428 0.87450331 0.87450094 0.87450098 0.87443007\n",
            " 0.87443294 0.87443257]\n",
            "  warnings.warn(\n"
          ]
        },
        {
          "output_type": "execute_result",
          "data": {
            "text/plain": [
              "GridSearchCV(estimator=LogisticRegression(max_iter=10000, random_state=0),\n",
              "             param_grid=[{'penalty': ['l1', 'l2', 'elasticnet', 'None']},\n",
              "                         {'C': [1.376, 1.378, 1.379, 1.38, 1.381, 1.382,\n",
              "                                1.383]},\n",
              "                         {'solver': ['lbfgs', 'newton-cg', 'newton-cholesky']}],\n",
              "             scoring='roc_auc')"
            ],
            "text/html": [
              "<style>#sk-container-id-1 {color: black;background-color: white;}#sk-container-id-1 pre{padding: 0;}#sk-container-id-1 div.sk-toggleable {background-color: white;}#sk-container-id-1 label.sk-toggleable__label {cursor: pointer;display: block;width: 100%;margin-bottom: 0;padding: 0.3em;box-sizing: border-box;text-align: center;}#sk-container-id-1 label.sk-toggleable__label-arrow:before {content: \"▸\";float: left;margin-right: 0.25em;color: #696969;}#sk-container-id-1 label.sk-toggleable__label-arrow:hover:before {color: black;}#sk-container-id-1 div.sk-estimator:hover label.sk-toggleable__label-arrow:before {color: black;}#sk-container-id-1 div.sk-toggleable__content {max-height: 0;max-width: 0;overflow: hidden;text-align: left;background-color: #f0f8ff;}#sk-container-id-1 div.sk-toggleable__content pre {margin: 0.2em;color: black;border-radius: 0.25em;background-color: #f0f8ff;}#sk-container-id-1 input.sk-toggleable__control:checked~div.sk-toggleable__content {max-height: 200px;max-width: 100%;overflow: auto;}#sk-container-id-1 input.sk-toggleable__control:checked~label.sk-toggleable__label-arrow:before {content: \"▾\";}#sk-container-id-1 div.sk-estimator input.sk-toggleable__control:checked~label.sk-toggleable__label {background-color: #d4ebff;}#sk-container-id-1 div.sk-label input.sk-toggleable__control:checked~label.sk-toggleable__label {background-color: #d4ebff;}#sk-container-id-1 input.sk-hidden--visually {border: 0;clip: rect(1px 1px 1px 1px);clip: rect(1px, 1px, 1px, 1px);height: 1px;margin: -1px;overflow: hidden;padding: 0;position: absolute;width: 1px;}#sk-container-id-1 div.sk-estimator {font-family: monospace;background-color: #f0f8ff;border: 1px dotted black;border-radius: 0.25em;box-sizing: border-box;margin-bottom: 0.5em;}#sk-container-id-1 div.sk-estimator:hover {background-color: #d4ebff;}#sk-container-id-1 div.sk-parallel-item::after {content: \"\";width: 100%;border-bottom: 1px solid gray;flex-grow: 1;}#sk-container-id-1 div.sk-label:hover label.sk-toggleable__label {background-color: #d4ebff;}#sk-container-id-1 div.sk-serial::before {content: \"\";position: absolute;border-left: 1px solid gray;box-sizing: border-box;top: 0;bottom: 0;left: 50%;z-index: 0;}#sk-container-id-1 div.sk-serial {display: flex;flex-direction: column;align-items: center;background-color: white;padding-right: 0.2em;padding-left: 0.2em;position: relative;}#sk-container-id-1 div.sk-item {position: relative;z-index: 1;}#sk-container-id-1 div.sk-parallel {display: flex;align-items: stretch;justify-content: center;background-color: white;position: relative;}#sk-container-id-1 div.sk-item::before, #sk-container-id-1 div.sk-parallel-item::before {content: \"\";position: absolute;border-left: 1px solid gray;box-sizing: border-box;top: 0;bottom: 0;left: 50%;z-index: -1;}#sk-container-id-1 div.sk-parallel-item {display: flex;flex-direction: column;z-index: 1;position: relative;background-color: white;}#sk-container-id-1 div.sk-parallel-item:first-child::after {align-self: flex-end;width: 50%;}#sk-container-id-1 div.sk-parallel-item:last-child::after {align-self: flex-start;width: 50%;}#sk-container-id-1 div.sk-parallel-item:only-child::after {width: 0;}#sk-container-id-1 div.sk-dashed-wrapped {border: 1px dashed gray;margin: 0 0.4em 0.5em 0.4em;box-sizing: border-box;padding-bottom: 0.4em;background-color: white;}#sk-container-id-1 div.sk-label label {font-family: monospace;font-weight: bold;display: inline-block;line-height: 1.2em;}#sk-container-id-1 div.sk-label-container {text-align: center;}#sk-container-id-1 div.sk-container {/* jupyter's `normalize.less` sets `[hidden] { display: none; }` but bootstrap.min.css set `[hidden] { display: none !important; }` so we also need the `!important` here to be able to override the default hidden behavior on the sphinx rendered scikit-learn.org. See: https://github.com/scikit-learn/scikit-learn/issues/21755 */display: inline-block !important;position: relative;}#sk-container-id-1 div.sk-text-repr-fallback {display: none;}</style><div id=\"sk-container-id-1\" class=\"sk-top-container\"><div class=\"sk-text-repr-fallback\"><pre>GridSearchCV(estimator=LogisticRegression(max_iter=10000, random_state=0),\n",
              "             param_grid=[{&#x27;penalty&#x27;: [&#x27;l1&#x27;, &#x27;l2&#x27;, &#x27;elasticnet&#x27;, &#x27;None&#x27;]},\n",
              "                         {&#x27;C&#x27;: [1.376, 1.378, 1.379, 1.38, 1.381, 1.382,\n",
              "                                1.383]},\n",
              "                         {&#x27;solver&#x27;: [&#x27;lbfgs&#x27;, &#x27;newton-cg&#x27;, &#x27;newton-cholesky&#x27;]}],\n",
              "             scoring=&#x27;roc_auc&#x27;)</pre><b>In a Jupyter environment, please rerun this cell to show the HTML representation or trust the notebook. <br />On GitHub, the HTML representation is unable to render, please try loading this page with nbviewer.org.</b></div><div class=\"sk-container\" hidden><div class=\"sk-item sk-dashed-wrapped\"><div class=\"sk-label-container\"><div class=\"sk-label sk-toggleable\"><input class=\"sk-toggleable__control sk-hidden--visually\" id=\"sk-estimator-id-1\" type=\"checkbox\" ><label for=\"sk-estimator-id-1\" class=\"sk-toggleable__label sk-toggleable__label-arrow\">GridSearchCV</label><div class=\"sk-toggleable__content\"><pre>GridSearchCV(estimator=LogisticRegression(max_iter=10000, random_state=0),\n",
              "             param_grid=[{&#x27;penalty&#x27;: [&#x27;l1&#x27;, &#x27;l2&#x27;, &#x27;elasticnet&#x27;, &#x27;None&#x27;]},\n",
              "                         {&#x27;C&#x27;: [1.376, 1.378, 1.379, 1.38, 1.381, 1.382,\n",
              "                                1.383]},\n",
              "                         {&#x27;solver&#x27;: [&#x27;lbfgs&#x27;, &#x27;newton-cg&#x27;, &#x27;newton-cholesky&#x27;]}],\n",
              "             scoring=&#x27;roc_auc&#x27;)</pre></div></div></div><div class=\"sk-parallel\"><div class=\"sk-parallel-item\"><div class=\"sk-item\"><div class=\"sk-label-container\"><div class=\"sk-label sk-toggleable\"><input class=\"sk-toggleable__control sk-hidden--visually\" id=\"sk-estimator-id-2\" type=\"checkbox\" ><label for=\"sk-estimator-id-2\" class=\"sk-toggleable__label sk-toggleable__label-arrow\">estimator: LogisticRegression</label><div class=\"sk-toggleable__content\"><pre>LogisticRegression(max_iter=10000, random_state=0)</pre></div></div></div><div class=\"sk-serial\"><div class=\"sk-item\"><div class=\"sk-estimator sk-toggleable\"><input class=\"sk-toggleable__control sk-hidden--visually\" id=\"sk-estimator-id-3\" type=\"checkbox\" ><label for=\"sk-estimator-id-3\" class=\"sk-toggleable__label sk-toggleable__label-arrow\">LogisticRegression</label><div class=\"sk-toggleable__content\"><pre>LogisticRegression(max_iter=10000, random_state=0)</pre></div></div></div></div></div></div></div></div></div></div>"
            ]
          },
          "metadata": {},
          "execution_count": 23
        }
      ],
      "source": [
        "grid_search.fit(x_train, y_train)"
      ]
    },
    {
      "cell_type": "code",
      "execution_count": null,
      "metadata": {
        "id": "nacpysExgxrw",
        "colab": {
          "base_uri": "https://localhost:8080/"
        },
        "outputId": "4e4e97e5-3075-45e3-c247-46477fbfda70"
      },
      "outputs": [
        {
          "output_type": "execute_result",
          "data": {
            "text/plain": [
              "{'C': 1.38}"
            ]
          },
          "metadata": {},
          "execution_count": 24
        }
      ],
      "source": [
        "grid_search.best_params_"
      ]
    },
    {
      "cell_type": "markdown",
      "source": [
        "Resultado hiperparametros :{'C': 1.38}"
      ],
      "metadata": {
        "id": "ArmLhACdxpui"
      }
    },
    {
      "cell_type": "code",
      "execution_count": null,
      "metadata": {
        "id": "p_D2UNBogxry"
      },
      "outputs": [],
      "source": [
        "model = grid_search.best_estimator_"
      ]
    },
    {
      "cell_type": "code",
      "execution_count": null,
      "metadata": {
        "colab": {
          "base_uri": "https://localhost:8080/",
          "height": 74
        },
        "id": "LQ4cMavRgxr0",
        "outputId": "bf38ad73-5381-4d15-d92f-d9d1dfb9bf36"
      },
      "outputs": [
        {
          "output_type": "execute_result",
          "data": {
            "text/plain": [
              "LogisticRegression(C=1.38, max_iter=10000, random_state=0)"
            ],
            "text/html": [
              "<style>#sk-container-id-2 {color: black;background-color: white;}#sk-container-id-2 pre{padding: 0;}#sk-container-id-2 div.sk-toggleable {background-color: white;}#sk-container-id-2 label.sk-toggleable__label {cursor: pointer;display: block;width: 100%;margin-bottom: 0;padding: 0.3em;box-sizing: border-box;text-align: center;}#sk-container-id-2 label.sk-toggleable__label-arrow:before {content: \"▸\";float: left;margin-right: 0.25em;color: #696969;}#sk-container-id-2 label.sk-toggleable__label-arrow:hover:before {color: black;}#sk-container-id-2 div.sk-estimator:hover label.sk-toggleable__label-arrow:before {color: black;}#sk-container-id-2 div.sk-toggleable__content {max-height: 0;max-width: 0;overflow: hidden;text-align: left;background-color: #f0f8ff;}#sk-container-id-2 div.sk-toggleable__content pre {margin: 0.2em;color: black;border-radius: 0.25em;background-color: #f0f8ff;}#sk-container-id-2 input.sk-toggleable__control:checked~div.sk-toggleable__content {max-height: 200px;max-width: 100%;overflow: auto;}#sk-container-id-2 input.sk-toggleable__control:checked~label.sk-toggleable__label-arrow:before {content: \"▾\";}#sk-container-id-2 div.sk-estimator input.sk-toggleable__control:checked~label.sk-toggleable__label {background-color: #d4ebff;}#sk-container-id-2 div.sk-label input.sk-toggleable__control:checked~label.sk-toggleable__label {background-color: #d4ebff;}#sk-container-id-2 input.sk-hidden--visually {border: 0;clip: rect(1px 1px 1px 1px);clip: rect(1px, 1px, 1px, 1px);height: 1px;margin: -1px;overflow: hidden;padding: 0;position: absolute;width: 1px;}#sk-container-id-2 div.sk-estimator {font-family: monospace;background-color: #f0f8ff;border: 1px dotted black;border-radius: 0.25em;box-sizing: border-box;margin-bottom: 0.5em;}#sk-container-id-2 div.sk-estimator:hover {background-color: #d4ebff;}#sk-container-id-2 div.sk-parallel-item::after {content: \"\";width: 100%;border-bottom: 1px solid gray;flex-grow: 1;}#sk-container-id-2 div.sk-label:hover label.sk-toggleable__label {background-color: #d4ebff;}#sk-container-id-2 div.sk-serial::before {content: \"\";position: absolute;border-left: 1px solid gray;box-sizing: border-box;top: 0;bottom: 0;left: 50%;z-index: 0;}#sk-container-id-2 div.sk-serial {display: flex;flex-direction: column;align-items: center;background-color: white;padding-right: 0.2em;padding-left: 0.2em;position: relative;}#sk-container-id-2 div.sk-item {position: relative;z-index: 1;}#sk-container-id-2 div.sk-parallel {display: flex;align-items: stretch;justify-content: center;background-color: white;position: relative;}#sk-container-id-2 div.sk-item::before, #sk-container-id-2 div.sk-parallel-item::before {content: \"\";position: absolute;border-left: 1px solid gray;box-sizing: border-box;top: 0;bottom: 0;left: 50%;z-index: -1;}#sk-container-id-2 div.sk-parallel-item {display: flex;flex-direction: column;z-index: 1;position: relative;background-color: white;}#sk-container-id-2 div.sk-parallel-item:first-child::after {align-self: flex-end;width: 50%;}#sk-container-id-2 div.sk-parallel-item:last-child::after {align-self: flex-start;width: 50%;}#sk-container-id-2 div.sk-parallel-item:only-child::after {width: 0;}#sk-container-id-2 div.sk-dashed-wrapped {border: 1px dashed gray;margin: 0 0.4em 0.5em 0.4em;box-sizing: border-box;padding-bottom: 0.4em;background-color: white;}#sk-container-id-2 div.sk-label label {font-family: monospace;font-weight: bold;display: inline-block;line-height: 1.2em;}#sk-container-id-2 div.sk-label-container {text-align: center;}#sk-container-id-2 div.sk-container {/* jupyter's `normalize.less` sets `[hidden] { display: none; }` but bootstrap.min.css set `[hidden] { display: none !important; }` so we also need the `!important` here to be able to override the default hidden behavior on the sphinx rendered scikit-learn.org. See: https://github.com/scikit-learn/scikit-learn/issues/21755 */display: inline-block !important;position: relative;}#sk-container-id-2 div.sk-text-repr-fallback {display: none;}</style><div id=\"sk-container-id-2\" class=\"sk-top-container\"><div class=\"sk-text-repr-fallback\"><pre>LogisticRegression(C=1.38, max_iter=10000, random_state=0)</pre><b>In a Jupyter environment, please rerun this cell to show the HTML representation or trust the notebook. <br />On GitHub, the HTML representation is unable to render, please try loading this page with nbviewer.org.</b></div><div class=\"sk-container\" hidden><div class=\"sk-item\"><div class=\"sk-estimator sk-toggleable\"><input class=\"sk-toggleable__control sk-hidden--visually\" id=\"sk-estimator-id-4\" type=\"checkbox\" checked><label for=\"sk-estimator-id-4\" class=\"sk-toggleable__label sk-toggleable__label-arrow\">LogisticRegression</label><div class=\"sk-toggleable__content\"><pre>LogisticRegression(C=1.38, max_iter=10000, random_state=0)</pre></div></div></div></div></div>"
            ]
          },
          "metadata": {},
          "execution_count": 26
        }
      ],
      "source": [
        "model.fit(x_train, y_train)"
      ]
    },
    {
      "cell_type": "code",
      "source": [
        "proba_pred_val = model.predict_proba(x_validation)[:, 1]"
      ],
      "metadata": {
        "id": "1qVuGPCgzrY-"
      },
      "execution_count": null,
      "outputs": []
    },
    {
      "cell_type": "code",
      "execution_count": null,
      "metadata": {
        "colab": {
          "base_uri": "https://localhost:8080/"
        },
        "id": "U70_9mUOg2k-",
        "outputId": "fd0c17b6-0609-47dc-ef1a-0af19bea5d4b"
      },
      "outputs": [
        {
          "output_type": "execute_result",
          "data": {
            "text/plain": [
              "0.8797042731446126"
            ]
          },
          "metadata": {},
          "execution_count": 28
        }
      ],
      "source": [
        "roc_auc_score(y_validation, proba_pred_val)"
      ]
    },
    {
      "cell_type": "markdown",
      "source": [
        "Mejor resultado Auc-Roc obtenido = 0.8797042731446126\n",
        "Detalles que lo implementaron: mejora progresiva de C, diferenciar \"otros\" y \"unknown\" en nans, aumentar max iter y estandarizar columnas con valores numericos.\n",
        "\n",
        "Debido a que los datos no tienen cronologia ni dice haber multiples entradas de un mismo hongo segun la documentacion, se opto por dividir el modelo en 80% train (para tener mayor cantidad de datos para entrenar el modelo) y luego 10% validacion y 10% test."
      ],
      "metadata": {
        "id": "IUEnYvhV0LMV"
      }
    },
    {
      "cell_type": "markdown",
      "source": [
        "# Importancia features"
      ],
      "metadata": {
        "id": "TPdZiWIUqvH7"
      }
    },
    {
      "cell_type": "code",
      "source": [
        "import seaborn as sns\n",
        "import numpy as np\n",
        "from matplotlib import rcParams\n",
        "\n",
        "k_mas_importantes = 20 #cantidad de features q se quieren mostrar, max = 20\n",
        "coefs = grid_search.best_estimator_.coef_[0]\n",
        "\n",
        "importancia = {}\n",
        "for i in range (len(coefs)):\n",
        "  key_act = x_train.columns[i]\n",
        "  if (key_act[-2] == \"_\"):\n",
        "    key_act = key_act[0:-2]\n",
        "  if key_act not in importancia.keys():\n",
        "    importancia[key_act] = abs(coefs[i])\n",
        "  else:\n",
        "    importancia[key_act] += abs(coefs[i])\n",
        "\n",
        "grafico = pd.DataFrame({'Feature':importancia.keys(), 'Importancia':importancia.values()})\n",
        "grafico = grafico.reindex(grafico.Importancia.abs().sort_values(ascending=False).index)\n",
        "print(grafico)\n",
        "#Bar plot\n",
        "sns.set_style(\"ticks\",{'axes.grid' : True})\n",
        "bar = sns.barplot(data = grafico.iloc[0:k_mas_importantes], x = 'Feature', y='Importancia', palette = \"mako\")\n",
        "bar.tick_params(axis='x', rotation=85, pad = 0.5)\n",
        "bar.set(title=\"Features más Importantes\")\n"
      ],
      "metadata": {
        "colab": {
          "base_uri": "https://localhost:8080/"
        },
        "id": "ARrzAYEFssBD",
        "outputId": "228a3b0a-cfe8-40fe-aafe-751d8aef701a"
      },
      "execution_count": null,
      "outputs": [
        {
          "output_type": "stream",
          "name": "stdout",
          "text": [
            "                 Feature  Importancia\n",
            "14            veil-color    21.641145\n",
            "17     spore-print-color    17.677440\n",
            "10             stem-root    11.414921\n",
            "13             veil-type     8.486677\n",
            "11          stem-surface     6.773653\n",
            "12            stem-color     4.317421\n",
            "18               habitat     2.984522\n",
            "16             ring-type     2.833584\n",
            "5        gill-attachment     2.731750\n",
            "2            cap-surface     1.924161\n",
            "1              cap-shape     1.533570\n",
            "6           gill-spacing     1.515788\n",
            "3              cap-color     1.326236\n",
            "7             gill-color     1.156172\n",
            "19                season     1.029087\n",
            "0           cap-diameter     0.625265\n",
            "15              has-ring     0.568444\n",
            "8            stem-height     0.427973\n",
            "9             stem-width     0.382307\n",
            "4   does-bruise-or-bleed     0.167705\n"
          ]
        },
        {
          "output_type": "execute_result",
          "data": {
            "text/plain": [
              "[Text(0.5, 1.0, 'Features más Importantes')]"
            ]
          },
          "metadata": {},
          "execution_count": 29
        },
        {
          "output_type": "display_data",
          "data": {
            "text/plain": [
              "<Figure size 640x480 with 1 Axes>"
            ],
            "image/png": "[encoded data removed]"
          },
          "metadata": {}
        }
      ]
    },
    {
      "cell_type": "markdown",
      "source": [
        "# Test:\n"
      ],
      "metadata": {
        "id": "ZyWTwiVzkm-h"
      }
    },
    {
      "cell_type": "code",
      "source": [
        "y_pred_test = model.predict(x_test)"
      ],
      "metadata": {
        "id": "lLtVLGQUzgpV"
      },
      "execution_count": null,
      "outputs": []
    },
    {
      "cell_type": "code",
      "source": [
        "proba_pred_test = model.predict_proba(x_test)[:, 1]"
      ],
      "metadata": {
        "id": "vQ8CWXem2Kth"
      },
      "execution_count": null,
      "outputs": []
    },
    {
      "cell_type": "code",
      "execution_count": null,
      "metadata": {
        "colab": {
          "base_uri": "https://localhost:8080/"
        },
        "outputId": "e00c7801-4001-4b76-c6d7-1cc6ee71d4cf",
        "id": "fqvkdivM2Kth"
      },
      "outputs": [
        {
          "output_type": "execute_result",
          "data": {
            "text/plain": [
              "0.8819073568535698"
            ]
          },
          "metadata": {},
          "execution_count": 32
        }
      ],
      "source": [
        "roc_auc_score(y_test, proba_pred_test)"
      ]
    },
    {
      "cell_type": "markdown",
      "source": [
        "Resultado Auc: 0.8819073568535698"
      ],
      "metadata": {
        "id": "Utf_HQml2WRT"
      }
    },
    {
      "cell_type": "markdown",
      "source": [
        "# Guardar prediccion test"
      ],
      "metadata": {
        "id": "HbJkVGQmq1KS"
      }
    },
    {
      "cell_type": "code",
      "source": [
        "csv_predicciones = x_test_sin_encodear\n",
        "\n",
        "y_pred = pd.Series(y_pred_test).map({0: 'p', 1: 'e'})\n",
        "\n",
        "csv_predicciones = csv_predicciones.assign(predicted_class_reg_log = y_test.values)\n",
        "csv_predicciones = csv_predicciones.assign(expected_class = y_pred.values)\n",
        "\n",
        "csv_predicciones.to_csv('predicciones_test_reg_log.csv')"
      ],
      "metadata": {
        "id": "7rK5Iw422dIm"
      },
      "execution_count": null,
      "outputs": []
    }
  ],
  "metadata": {
    "colab": {
      "provenance": [],
      "collapsed_sections": [
        "wIfjVITlC2cl",
        "JLRHvnKDQpDU",
        "ncP9QLJnCyHc",
        "GdWqH89-DZj3",
        "TPdZiWIUqvH7",
        "ZyWTwiVzkm-h",
        "HbJkVGQmq1KS"
      ]
    },
    "kernelspec": {
      "display_name": "Python 3",
      "name": "python3"
    },
    "language_info": {
      "name": "python"
    }
  },
  "nbformat": 4,
  "nbformat_minor": 0
}