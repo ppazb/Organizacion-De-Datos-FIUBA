{
  "cells": [
    {
      "cell_type": "code",
      "execution_count": null,
      "metadata": {
        "id": "n5CsOm-2J4HD"
      },
      "outputs": [],
      "source": [
        "import plotly.express as px\n",
        "import pandas as pd\n",
        "import numpy as numpy"
      ]
    },
    {
      "cell_type": "code",
      "execution_count": null,
      "metadata": {
        "colab": {
          "base_uri": "https://localhost:8080/"
        },
        "id": "AgYR37HqKB0k",
        "outputId": "fc38e1b8-a4c0-4a30-f0ad-76b699587310"
      },
      "outputs": [
        {
          "name": "stdout",
          "output_type": "stream",
          "text": [
            "Mounted at /content/drive\n"
          ]
        }
      ],
      "source": [
        "from google.colab import drive\n",
        "drive.mount('/content/drive')"
      ]
    },
    {
      "cell_type": "code",
      "execution_count": null,
      "metadata": {
        "id": "fJ7mWv2qbb3F"
      },
      "outputs": [],
      "source": [
        "hongos = pd.read_csv(\"/content/drive/MyDrive/Colab Notebooks/secondary_data.csv\", sep=\";\")\n"
      ]
    },
    {
      "cell_type": "markdown",
      "metadata": {
        "id": "wIfjVITlC2cl"
      },
      "source": [
        "# Nans:\n"
      ]
    },
    {
      "cell_type": "markdown",
      "metadata": {
        "id": "BF5JnxHfmA-3"
      },
      "source": [
        "**Las siguientes variables cuentan con valores de Nan y seran reemplazadas. Como regla general, se utilizara other cuando se puede asegurar que tiene valor y unknown cuando no se sabe si siquiera ese dato podria tener valor (caso de color/forma de cosas que no se sabe siquiera si lo tiene, etc).**\n",
        "\n",
        "\n",
        "- Cap surface: como es un dato que obligatoriamente tiene cualquier hongo, voy   a tomar los nan y los \"d\" (debido a que es un valor no especificado en el paper) como otros = \"o\"\n",
        "\n",
        "- gill-attachment: El nan se especifica que es desconocido por el paper (unknown=?) asi que sera reemplazado por \"u\".\n",
        "\n",
        "- Gill-Spacing:\n",
        "  1. Para los hongos que tienen gill-attachment none (f): se reemplazara por f. Esto se ve respaldado por el hecho que todos los hongos que no tienen gill.attachment y tienen gill-spacing conocido tienen valor f, no puede tener spacing si no tiene gills.\n",
        "\n",
        "  2. Para los hongos que tienen gill-attachment distinto a u/f: seran reemplazados por others = \"o\" puesto que se sabe que si tienen gills, solo que no se sabe el spacing.\n",
        "\n",
        "  3. Para los que no se sabe si tienen gill-attachment (u), se utilizara unknown = \"u\".\n",
        "\n",
        "- Stem-Root: existe un valor desconocido, que no aparece en la documentacion (f) y Nans, ambos seran reemplazados por other, puesto que si o si tiene que tener stem.\n",
        "\n",
        "- Stem-Surface: debido a que todo registro tiene stem-height/width/color es un poco raro que exista la posibilidad de tener none (f) como valor posible, puesto que todo tiene alguna textura de superficie. Para que tengan sentido los nans y los f se utilizara other = \"o\".\n",
        "\n",
        "- veil-type: puesto que no puedo asumir que porque ninguno es parcial que alguno de ellos lo es, se reemplazaran los nans de la siguiente forma:\n",
        "  1. Aquellos que tengan veil-color distinto a Nan o f: other = \"o\".\n",
        "  \n",
        "  2. Aquellos que no se sepa el veil-color: unknown = \"n\". Se utiliza porque ya existe la u como valor.\n",
        "\n",
        "- Veil-color:\n",
        "  1. Si veil-type es unknown: unknown (n, puesto que ya existe u).\n",
        "  2. Si veil.type es distinto a uknown: other.\n",
        "\n",
        "- Ring-type: se especifica la existencia de unknown = ?, por lo que sera reemplazado por \"u\".\n",
        "\n",
        "- spore-print-color: Nans seran reemplazados por other = \"o\".\n"
      ]
    },
    {
      "cell_type": "code",
      "execution_count": null,
      "metadata": {
        "id": "JtY3FNMS1xT6"
      },
      "outputs": [],
      "source": [
        "#Cap surface:\n",
        "hongos.loc[hongos['cap-surface'] == 'd', 'cap-surface'] = \"o\"\n",
        "hongos['cap-surface'] = hongos['cap-surface'].fillna(\"o\")\n",
        "\n",
        "#gill-attachment:\n",
        "hongos['gill-attachment'] = hongos['gill-attachment'].fillna(\"u\")\n",
        "\n",
        "#gill-spacing\n",
        "hongos.loc[(hongos['gill-attachment'] == 'f') & (hongos['gill-spacing'].isnull()), 'gill-spacing'] = \"f\"\n",
        "hongos.loc[(hongos['gill-attachment'] == 'u') & (hongos['gill-spacing'].isnull()), 'gill-spacing'] = \"u\"\n",
        "hongos['gill-spacing'] = hongos['gill-spacing'].fillna(\"o\")\n",
        "\n",
        "#Stem-Root:\n",
        "hongos.loc[hongos['stem-root'] == 'f', 'stem-root'] = \"o\"\n",
        "hongos['stem-root'] = hongos['stem-root'].fillna(\"o\")\n",
        "\n",
        "#stem-surface\n",
        "hongos.loc[hongos['stem-surface'] == 'f', 'stem-surface'] = \"o\"\n",
        "hongos['stem-surface'] = hongos['stem-surface'].fillna(\"o\")\n",
        "\n",
        "#Veil-Type (noto que veil-color no tiene f, solo nan)\n",
        "hongos.loc[(hongos['veil-color'].notnull()) & (hongos['veil-type'].isnull()), 'veil-type'] = \"o\"\n",
        "hongos['veil-type'] = hongos['veil-type'].fillna(\"n\") #ya existe u\n",
        "\n",
        "#Veil-color\n",
        "hongos.loc[(hongos['veil-type'] == 'n') & (hongos['veil-color'].isnull()), 'veil-color'] = \"n\" #ya existe u\n",
        "hongos['veil-color'] = hongos['veil-color'].fillna(\"n\")\n",
        "\n",
        "#ring-type:\n",
        "hongos['ring-type'] = hongos['ring-type'].fillna(\"u\")\n",
        "\n",
        "#Spore-print-color:\n",
        "hongos['spore-print-color'] = hongos['spore-print-color'].fillna(\"o\")\n"
      ]
    },
    {
      "cell_type": "markdown",
      "metadata": {
        "id": "JLRHvnKDQpDU"
      },
      "source": [
        "# Separar datos"
      ]
    },
    {
      "cell_type": "code",
      "execution_count": null,
      "metadata": {
        "id": "4coCLy2ogxrj"
      },
      "outputs": [],
      "source": [
        "from sklearn.model_selection import train_test_split"
      ]
    },
    {
      "cell_type": "code",
      "execution_count": null,
      "metadata": {
        "id": "PSowpGg2bQ6x"
      },
      "outputs": [],
      "source": [
        "x = hongos.drop('class', axis=1)\n",
        "y = hongos['class']"
      ]
    },
    {
      "cell_type": "code",
      "execution_count": null,
      "metadata": {
        "id": "iPxnUKHsQRca"
      },
      "outputs": [],
      "source": [
        "x = x.astype({\"stem-height\":\"float\",\"stem-width\":\"float\",\"cap-diameter\":\"float\"})"
      ]
    },
    {
      "cell_type": "code",
      "execution_count": null,
      "metadata": {
        "id": "wvttse1qv8a6"
      },
      "outputs": [],
      "source": [
        "from sklearn.preprocessing import StandardScaler"
      ]
    },
    {
      "cell_type": "code",
      "execution_count": null,
      "metadata": {
        "id": "ROGdPrt5v8a6"
      },
      "outputs": [],
      "source": [
        "scaler = StandardScaler()"
      ]
    },
    {
      "cell_type": "code",
      "execution_count": null,
      "metadata": {
        "id": "oNYKsaN-v8a7"
      },
      "outputs": [],
      "source": [
        "x[['stem-height','stem-width','cap-diameter']] = pd.DataFrame(scaler.fit_transform(x[['stem-height','stem-width','cap-diameter']]), columns=[['stem-height','stem-width','cap-diameter']])"
      ]
    },
    {
      "cell_type": "markdown",
      "metadata": {
        "id": "n2hSDpEef8Dt"
      },
      "source": [
        "Train: 80%\n",
        "Test: 10%\n",
        "Validation: 10%"
      ]
    },
    {
      "cell_type": "code",
      "execution_count": null,
      "metadata": {
        "id": "CJ1WsgJTbT9p"
      },
      "outputs": [],
      "source": [
        "x_train, x_separar, y_train, y_separar = train_test_split(x, y, test_size=0.2, random_state=5)"
      ]
    },
    {
      "cell_type": "code",
      "execution_count": null,
      "metadata": {
        "id": "z9rY1lRlbjwC"
      },
      "outputs": [],
      "source": [
        "x_test, x_validation, y_test, y_validation = train_test_split(x_separar, y_separar, test_size=0.5, random_state=5)"
      ]
    },
    {
      "cell_type": "markdown",
      "metadata": {
        "id": "ncP9QLJnCyHc"
      },
      "source": [
        "# Encoding"
      ]
    },
    {
      "cell_type": "markdown",
      "metadata": {
        "id": "UeHPRvIQANdx"
      },
      "source": [
        "Realizo el encoding de test, validation y train por separado asi no filtro datos. Se eligieron los encoders Binary Encoder y OHE.\n"
      ]
    },
    {
      "cell_type": "code",
      "execution_count": null,
      "metadata": {
        "colab": {
          "background_save": true,
          "base_uri": "https://localhost:8080/"
        },
        "id": "ctoGXNAJQgjm",
        "outputId": "323ba357-8b07-4cae-e26e-bfe9fb1bb9c7"
      },
      "outputs": [
        {
          "name": "stdout",
          "output_type": "stream",
          "text": [
            "Looking in indexes: https://pypi.org/simple, https://us-python.pkg.dev/colab-wheels/public/simple/\n",
            "Requirement already satisfied: category_encoders in /usr/local/lib/python3.10/dist-packages (2.6.1)\n",
            "Requirement already satisfied: numpy>=1.14.0 in /usr/local/lib/python3.10/dist-packages (from category_encoders) (1.22.4)\n",
            "Requirement already satisfied: scikit-learn>=0.20.0 in /usr/local/lib/python3.10/dist-packages (from category_encoders) (1.2.2)\n",
            "Requirement already satisfied: scipy>=1.0.0 in /usr/local/lib/python3.10/dist-packages (from category_encoders) (1.10.1)\n",
            "Requirement already satisfied: statsmodels>=0.9.0 in /usr/local/lib/python3.10/dist-packages (from category_encoders) (0.13.5)\n",
            "Requirement already satisfied: pandas>=1.0.5 in /usr/local/lib/python3.10/dist-packages (from category_encoders) (1.5.3)\n",
            "Requirement already satisfied: patsy>=0.5.1 in /usr/local/lib/python3.10/dist-packages (from category_encoders) (0.5.3)\n",
            "Requirement already satisfied: python-dateutil>=2.8.1 in /usr/local/lib/python3.10/dist-packages (from pandas>=1.0.5->category_encoders) (2.8.2)\n",
            "Requirement already satisfied: pytz>=2020.1 in /usr/local/lib/python3.10/dist-packages (from pandas>=1.0.5->category_encoders) (2022.7.1)\n",
            "Requirement already satisfied: six in /usr/local/lib/python3.10/dist-packages (from patsy>=0.5.1->category_encoders) (1.16.0)\n",
            "Requirement already satisfied: joblib>=1.1.1 in /usr/local/lib/python3.10/dist-packages (from scikit-learn>=0.20.0->category_encoders) (1.2.0)\n",
            "Requirement already satisfied: threadpoolctl>=2.0.0 in /usr/local/lib/python3.10/dist-packages (from scikit-learn>=0.20.0->category_encoders) (3.1.0)\n",
            "Requirement already satisfied: packaging>=21.3 in /usr/local/lib/python3.10/dist-packages (from statsmodels>=0.9.0->category_encoders) (23.1)\n"
          ]
        }
      ],
      "source": [
        "from sklearn.preprocessing import OneHotEncoder\n",
        "!pip install category_encoders\n",
        "import category_encoders as ce"
      ]
    },
    {
      "cell_type": "code",
      "execution_count": null,
      "metadata": {
        "colab": {
          "background_save": true
        },
        "id": "tJr0Vkhsp5qi"
      },
      "outputs": [],
      "source": [
        "columnas = ['cap-shape','cap-surface','cap-color','gill-attachment','gill-spacing','gill-color','stem-root','stem-surface','stem-color',\n",
        "            'veil-type','veil-color','ring-type','spore-print-color','habitat','season']\n",
        "for columna in columnas:\n",
        "  encoder = ce.BinaryEncoder(cols=[columna])\n",
        "  x_train = encoder.fit_transform(x_train)\n",
        "\n",
        "  x_test = encoder.transform(x_test)\n",
        "  x_validation = encoder.transform(x_validation)"
      ]
    },
    {
      "cell_type": "code",
      "execution_count": null,
      "metadata": {
        "colab": {
          "background_save": true
        },
        "id": "HunwSAMGjULr"
      },
      "outputs": [],
      "source": [
        "#bleed\n",
        "ohe_bleed = OneHotEncoder(drop='first')\n",
        "x_train['does-bruise-or-bleed'] = ohe_bleed.fit_transform(x_train[['does-bruise-or-bleed']]).todense().astype(int)\n",
        "\n",
        "x_test['does-bruise-or-bleed'] = ohe_bleed.transform(x_test[['does-bruise-or-bleed']]).todense().astype(int)\n",
        "x_validation['does-bruise-or-bleed']= ohe_bleed.transform(x_validation[['does-bruise-or-bleed']]).todense().astype(int)\n"
      ]
    },
    {
      "cell_type": "code",
      "execution_count": null,
      "metadata": {
        "colab": {
          "background_save": true
        },
        "id": "26HXEsvSkX0H"
      },
      "outputs": [],
      "source": [
        "# has-ring\n",
        "ohe_ring = OneHotEncoder(drop='first')\n",
        "x_train['has-ring'] = ohe_ring.fit_transform(x_train[['has-ring']]).todense().astype(int)\n",
        "\n",
        "x_test['has-ring'] = ohe_ring.transform(x_test[['has-ring']]).todense().astype(int)\n",
        "x_validation['has-ring']= ohe_ring.transform(x_validation[['has-ring']]).todense().astype(int)\n"
      ]
    },
    {
      "cell_type": "markdown",
      "metadata": {
        "id": "HCyI8BJDp_sx"
      },
      "source": [
        "Encodeo target"
      ]
    },
    {
      "cell_type": "code",
      "execution_count": null,
      "metadata": {
        "colab": {
          "background_save": true
        },
        "id": "BY79ExFgelFt"
      },
      "outputs": [],
      "source": [
        "#class\n",
        "class_OHE = ce.OneHotEncoder(cols=['class'])\n",
        "\n",
        "y_train = class_OHE.fit_transform(y_train).iloc[:, 0]\n",
        "\n",
        "y_test =  class_OHE.transform(y_test).iloc[:, 0]\n",
        "y_validation =  class_OHE.transform(y_validation).iloc[:, 0]\n"
      ]
    },
    {
      "cell_type": "markdown",
      "metadata": {
        "id": "InA4eE6t7kTJ"
      },
      "source": [
        "# Random Forest"
      ]
    },
    {
      "cell_type": "code",
      "execution_count": null,
      "metadata": {
        "colab": {
          "background_save": true
        },
        "id": "qOVwYLl47ujR"
      },
      "outputs": [],
      "source": [
        "from sklearn.model_selection import RandomizedSearchCV\n",
        "from sklearn.ensemble import RandomForestClassifier\n",
        "from sklearn.metrics import confusion_matrix, accuracy_score\n",
        "from sklearn.metrics import roc_auc_score"
      ]
    },
    {
      "cell_type": "code",
      "execution_count": null,
      "metadata": {
        "colab": {
          "background_save": true,
          "base_uri": "https://localhost:8080/"
        },
        "id": "Tu71Q--B7i5t",
        "outputId": "658ad5dc-a3b5-4dc3-dba3-7de42651cdb0"
      },
      "outputs": [
        {
          "data": {
            "text/html": [
              "<style>#sk-container-id-2 {color: black;background-color: white;}#sk-container-id-2 pre{padding: 0;}#sk-container-id-2 div.sk-toggleable {background-color: white;}#sk-container-id-2 label.sk-toggleable__label {cursor: pointer;display: block;width: 100%;margin-bottom: 0;padding: 0.3em;box-sizing: border-box;text-align: center;}#sk-container-id-2 label.sk-toggleable__label-arrow:before {content: \"▸\";float: left;margin-right: 0.25em;color: #696969;}#sk-container-id-2 label.sk-toggleable__label-arrow:hover:before {color: black;}#sk-container-id-2 div.sk-estimator:hover label.sk-toggleable__label-arrow:before {color: black;}#sk-container-id-2 div.sk-toggleable__content {max-height: 0;max-width: 0;overflow: hidden;text-align: left;background-color: #f0f8ff;}#sk-container-id-2 div.sk-toggleable__content pre {margin: 0.2em;color: black;border-radius: 0.25em;background-color: #f0f8ff;}#sk-container-id-2 input.sk-toggleable__control:checked~div.sk-toggleable__content {max-height: 200px;max-width: 100%;overflow: auto;}#sk-container-id-2 input.sk-toggleable__control:checked~label.sk-toggleable__label-arrow:before {content: \"▾\";}#sk-container-id-2 div.sk-estimator input.sk-toggleable__control:checked~label.sk-toggleable__label {background-color: #d4ebff;}#sk-container-id-2 div.sk-label input.sk-toggleable__control:checked~label.sk-toggleable__label {background-color: #d4ebff;}#sk-container-id-2 input.sk-hidden--visually {border: 0;clip: rect(1px 1px 1px 1px);clip: rect(1px, 1px, 1px, 1px);height: 1px;margin: -1px;overflow: hidden;padding: 0;position: absolute;width: 1px;}#sk-container-id-2 div.sk-estimator {font-family: monospace;background-color: #f0f8ff;border: 1px dotted black;border-radius: 0.25em;box-sizing: border-box;margin-bottom: 0.5em;}#sk-container-id-2 div.sk-estimator:hover {background-color: #d4ebff;}#sk-container-id-2 div.sk-parallel-item::after {content: \"\";width: 100%;border-bottom: 1px solid gray;flex-grow: 1;}#sk-container-id-2 div.sk-label:hover label.sk-toggleable__label {background-color: #d4ebff;}#sk-container-id-2 div.sk-serial::before {content: \"\";position: absolute;border-left: 1px solid gray;box-sizing: border-box;top: 0;bottom: 0;left: 50%;z-index: 0;}#sk-container-id-2 div.sk-serial {display: flex;flex-direction: column;align-items: center;background-color: white;padding-right: 0.2em;padding-left: 0.2em;position: relative;}#sk-container-id-2 div.sk-item {position: relative;z-index: 1;}#sk-container-id-2 div.sk-parallel {display: flex;align-items: stretch;justify-content: center;background-color: white;position: relative;}#sk-container-id-2 div.sk-item::before, #sk-container-id-2 div.sk-parallel-item::before {content: \"\";position: absolute;border-left: 1px solid gray;box-sizing: border-box;top: 0;bottom: 0;left: 50%;z-index: -1;}#sk-container-id-2 div.sk-parallel-item {display: flex;flex-direction: column;z-index: 1;position: relative;background-color: white;}#sk-container-id-2 div.sk-parallel-item:first-child::after {align-self: flex-end;width: 50%;}#sk-container-id-2 div.sk-parallel-item:last-child::after {align-self: flex-start;width: 50%;}#sk-container-id-2 div.sk-parallel-item:only-child::after {width: 0;}#sk-container-id-2 div.sk-dashed-wrapped {border: 1px dashed gray;margin: 0 0.4em 0.5em 0.4em;box-sizing: border-box;padding-bottom: 0.4em;background-color: white;}#sk-container-id-2 div.sk-label label {font-family: monospace;font-weight: bold;display: inline-block;line-height: 1.2em;}#sk-container-id-2 div.sk-label-container {text-align: center;}#sk-container-id-2 div.sk-container {/* jupyter's `normalize.less` sets `[hidden] { display: none; }` but bootstrap.min.css set `[hidden] { display: none !important; }` so we also need the `!important` here to be able to override the default hidden behavior on the sphinx rendered scikit-learn.org. See: https://github.com/scikit-learn/scikit-learn/issues/21755 */display: inline-block !important;position: relative;}#sk-container-id-2 div.sk-text-repr-fallback {display: none;}</style><div id=\"sk-container-id-2\" class=\"sk-top-container\"><div class=\"sk-text-repr-fallback\"><pre>RandomForestClassifier(random_state=0)</pre><b>In a Jupyter environment, please rerun this cell to show the HTML representation or trust the notebook. <br />On GitHub, the HTML representation is unable to render, please try loading this page with nbviewer.org.</b></div><div class=\"sk-container\" hidden><div class=\"sk-item\"><div class=\"sk-estimator sk-toggleable\"><input class=\"sk-toggleable__control sk-hidden--visually\" id=\"sk-estimator-id-2\" type=\"checkbox\" checked><label for=\"sk-estimator-id-2\" class=\"sk-toggleable__label sk-toggleable__label-arrow\">RandomForestClassifier</label><div class=\"sk-toggleable__content\"><pre>RandomForestClassifier(random_state=0)</pre></div></div></div></div></div>"
            ],
            "text/plain": [
              "RandomForestClassifier(random_state=0)"
            ]
          },
          "execution_count": 37,
          "metadata": {},
          "output_type": "execute_result"
        }
      ],
      "source": [
        "random_forest = RandomForestClassifier(random_state=0)\n",
        "random_forest.fit(x_train, y_train)"
      ]
    },
    {
      "cell_type": "code",
      "execution_count": null,
      "metadata": {
        "colab": {
          "background_save": true,
          "base_uri": "https://localhost:8080/"
        },
        "id": "cySUx2AM-44m",
        "outputId": "ea396dc6-a58a-4b04-bb26-2bca28798164"
      },
      "outputs": [
        {
          "data": {
            "text/plain": [
              "1.0"
            ]
          },
          "execution_count": 38,
          "metadata": {},
          "output_type": "execute_result"
        }
      ],
      "source": [
        "validation_proba = random_forest.predict_proba(x_validation)[:,1]\n",
        "roc_auc_score(y_validation, validation_proba)"
      ]
    },
    {
      "cell_type": "markdown",
      "metadata": {
        "id": "Tl1e1e97_ueb"
      },
      "source": [
        "Roc-Auc obtenido = 1.0\n",
        "Debido a que ya se alcanza el roc-auc 1, no busco hiperparametros"
      ]
    },
    {
      "cell_type": "markdown",
      "metadata": {
        "id": "OuWrCCGnGJas"
      },
      "source": [
        "# Importancia de Features\n"
      ]
    },
    {
      "cell_type": "markdown",
      "metadata": {
        "id": "li2WYG-1m1gv"
      },
      "source": [
        "Graficar la importancia de features para el Random Forest de la parte III. ¿Qué tanto se parece a los features importantes de la parte II?"
      ]
    },
    {
      "cell_type": "code",
      "execution_count": null,
      "metadata": {
        "colab": {
          "background_save": true,
          "base_uri": "https://localhost:8080/"
        },
        "id": "xt_q_k3jGXMU",
        "outputId": "1a228b99-9fe8-4648-a770-11441f28cabb"
      },
      "outputs": [
        {
          "name": "stdout",
          "output_type": "stream",
          "text": [
            "                 Feature  Importancia\n",
            "9             stem-width     0.099465\n",
            "5        gill-attachment     0.086765\n",
            "12            stem-color     0.081999\n",
            "7             gill-color     0.076945\n",
            "2            cap-surface     0.075358\n",
            "6           gill-spacing     0.068945\n",
            "0           cap-diameter     0.062745\n",
            "11          stem-surface     0.061571\n",
            "8            stem-height     0.060211\n",
            "3              cap-color     0.053040\n",
            "10             stem-root     0.046422\n",
            "1              cap-shape     0.044456\n",
            "16             ring-type     0.038666\n",
            "18               habitat     0.025341\n",
            "17     spore-print-color     0.024228\n",
            "4   does-bruise-or-bleed     0.022921\n",
            "19                season     0.019755\n",
            "13             veil-type     0.018233\n",
            "15              has-ring     0.017661\n",
            "14            veil-color     0.015271\n"
          ]
        },
        {
          "data": {
            "image/png": "[encoded data removed]",
            "text/plain": [
              "<Figure size 640x480 with 1 Axes>"
            ]
          },
          "metadata": {},
          "output_type": "display_data"
        }
      ],
      "source": [
        "import seaborn as sns\n",
        "import numpy as np\n",
        "from matplotlib import rcParams\n",
        "\n",
        "k_mas_importantes = 20 #cantidad de features q se quieren mostrar, max = 20\n",
        "coefs = random_forest.feature_importances_\n",
        "\n",
        "importancia = {}\n",
        "for i in range (len(coefs)):\n",
        "  key_act = x_train.columns[i]\n",
        "  if (key_act[-2] == \"_\"):\n",
        "    key_act = key_act[0:-2]\n",
        "  if key_act not in importancia.keys():\n",
        "    importancia[key_act] = abs(coefs[i])\n",
        "  else:\n",
        "    importancia[key_act] += abs(coefs[i])\n",
        "\n",
        "grafico = pd.DataFrame({'Feature':importancia.keys(), 'Importancia':importancia.values()})\n",
        "grafico = grafico.reindex(grafico.Importancia.abs().sort_values(ascending=False).index)\n",
        "\n",
        "#Bar plot\n",
        "sns.set_style(\"ticks\",{'axes.grid' : True})\n",
        "bar = sns.barplot(data = grafico.iloc[0:k_mas_importantes], x = 'Feature', y='Importancia', palette = \"mako\")\n",
        "bar.tick_params(axis='x', rotation=85, pad = 0.5)\n",
        "bar.set(title=\"Features más Importantes\")\n",
        "print(grafico)"
      ]
    },
    {
      "cell_type": "markdown",
      "metadata": {
        "id": "FRnO6HIAJm4W"
      },
      "source": [
        "Entre las diferencias que tienen los graficos, se puede ver que, en el caso de la regresion logistica, suele haber un salto muy grande entre los primeros valores (21,17,11,8 y luego hay tres grupos principales, rondando el 2, el 1 y el 0), mientras que en el random forest, tiene una forma mas escalonada con diferencias menores entre importancias.\n",
        "\n",
        "\n",
        "A su vez  se puede ver que la diferencia entre la importancia del feature mas importante y el menos importante es muchisimo menor en este caso. En la regresion logistica la menos importante ronda el 0, mientras que en forest todas muestran algun grado de importancia.\n",
        "\n",
        "\n",
        "Finalmente otra diferencia apreciable, es que en el random forest se tienen mucho mas en cuenta las features numericas, tales como las altura, anchos, diametros, etc.. En este caso, la primera y quinta features mas importante es numerica, seguido de otras 4 features del mismo tipo. Por otro lado, en la regresion logistica los features numericos suelen tener menor importancia, siendo el primer feature numerico el 5to mas importante, con casi un tercio de la importancia del primero, y recien aparece de nuevo un feature numerico en el 10mo valor.\n"
      ]
    }
  ],
  "metadata": {
    "colab": {
      "provenance": [],
      "collapsed_sections": [
        "wIfjVITlC2cl",
        "JLRHvnKDQpDU",
        "ncP9QLJnCyHc",
        "InA4eE6t7kTJ",
        "OuWrCCGnGJas"
      ]
    },
    "kernelspec": {
      "display_name": "Python 3",
      "name": "python3"
    },
    "language_info": {
      "name": "python"
    }
  },
  "nbformat": 4,
  "nbformat_minor": 0
}